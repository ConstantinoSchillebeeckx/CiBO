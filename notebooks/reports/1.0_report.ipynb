{
 "cells": [
  {
   "cell_type": "code",
   "execution_count": 5,
   "metadata": {
    "collapsed": false,
    "deletable": true,
    "editable": true
   },
   "outputs": [
    {
     "data": {
      "text/html": [
       "\n",
       "<style>\n",
       "code {\n",
       "    padding:2px 4px !important;\n",
       "    color: #c7254e !important;\n",
       "    font-size: 90%;\n",
       "    background-color: #f9f2f4 !important;\n",
       "    border-radius: 4px !important;\n",
       "    color: rgb(138, 109, 59);\n",
       "}\n",
       "mark {\n",
       "    color: rgb(138, 109, 59) !important;\n",
       "    font-weight: bold !important;\n",
       "}\n",
       ".container { width: 90% !important; }\n",
       "table { font-size:15px !important; }\n",
       "</style>\n"
      ],
      "text/plain": [
       "<IPython.core.display.HTML object>"
      ]
     },
     "execution_count": 5,
     "metadata": {},
     "output_type": "execute_result"
    }
   ],
   "source": [
    "from IPython.core.display import HTML\n",
    "HTML(\"\"\"\n",
    "<style>\n",
    "code {\n",
    "    padding:2px 4px !important;\n",
    "    color: #c7254e !important;\n",
    "    font-size: 90%;\n",
    "    background-color: #f9f2f4 !important;\n",
    "    border-radius: 4px !important;\n",
    "    color: rgb(138, 109, 59);\n",
    "}\n",
    "mark {\n",
    "    color: rgb(138, 109, 59) !important;\n",
    "    font-weight: bold !important;\n",
    "}\n",
    ".container { width: 90% !important; }\n",
    "table { font-size:15px !important; }\n",
    "</style>\n",
    "\"\"\")"
   ]
  },
  {
   "cell_type": "code",
   "execution_count": 6,
   "metadata": {
    "collapsed": false,
    "deletable": true,
    "editable": true
   },
   "outputs": [],
   "source": [
    "import pandas as pd\n",
    "import seaborn as sns\n",
    "from matplotlib import pyplot as plt \n",
    "import os, sys\n",
    "\n",
    "sys.path.insert(0, '../../src/data/')\n",
    "import utils\n",
    "\n",
    "%matplotlib inline \n",
    "path_raw = \"../../data/raw/beer_reviews\"\n",
    "\n",
    "# LOAD DATA\n",
    "# we assume the file we're after is a\n",
    "# single .csv in path_raw\n",
    "for file in os.listdir(path_raw):\n",
    "    file = os.path.join(path_raw, file)\n",
    "    if os.path.isfile(file) and '.csv' in file: \n",
    "        dat_raw = pd.read_csv(file)"
   ]
  },
  {
   "cell_type": "markdown",
   "metadata": {
    "deletable": true,
    "editable": true
   },
   "source": [
    "# Introduction\n",
    "\n",
    "This notebook serves as the master report document which will present the analysis results for the CiBO data science exercise. The exercise is structured around a beer review data set available [online](https://urldefense.proofpoint.com/v2/url?u=https-3A__s3.amazonaws.com_demo-2Ddatasets_beer-5Freviews.tar.gz&d=DwMFaQ&c=imBPVzF25OnBgGmVOlcsiEgHoG1i6YHLR0Sj_gZ4adc&r=8bgQeuykrF3aSX4ERnAE37e9TNni25ddf39sbnkKHrQ&m=hkI6yrD7SBn4Z9WO9Zt31KmSuYIswplFpvMihrHqFd4&s=PStqu-SKl1ZEMNBu4MLVtzHvrTddC9h1mM3NqDgmYmI&e=) for which the following must be explored:\n",
    "> 1. Which brewery produces the strongest beers by ABV%?\n",
    "> 2. If you had to pick 3 beers to recommend using only this data, which would you pick?\n",
    "> 3. Which of the factors (aroma, taste, appearance, palette) are most important in determining the overall quality of a beer?\n",
    "> 4. If I enjoy a beer's aroma and appearance, which beer style should I try?"
   ]
  },
  {
   "cell_type": "markdown",
   "metadata": {
    "deletable": true,
    "editable": true
   },
   "source": [
    "## Initial data exploration\n",
    "\n",
    "The starting point of this analysis is to get a sense of what the data looks like and how it's organized, notebook [1.0](../explore/1.0_initial_look.ipynb) covers this initial investigation. The input data has the following caveats:\n",
    "- The dataset is composed of a series of beer reviews containing scores for numerous categories. Each data entry also has an associated brewery and beer style.\n",
    "- The following attribute fields have special characters (e.g. accents) in them: `brewery_name`, `beer_style`, `beer_name`.\n",
    "- Several attributes have missing values: `brewery_name`, `review_profilename` and `beer_abv`. We aren't too concerned about `brewery_name` since we have associated `brewery_id` with them. However, `review_profilename` will be needed if we want to compare across reviewers. A total of 17,043 beers have a missing values for `beer_abv`.\n",
    "- The distribution of beers reviews is not normal: the majority of beers have only a two reviews, however on average, each beer is reviewed about 24 times. <img src='figures/1.0_initial_look-0.png'></img>\n",
    "- Similarly, each brewery is not represented with the same number of beers: the average number of beers reviewed for the 5840 breweries in the dataset is ~11 where as the median is 5. <img src='figures/1.0_initial_look-1.png'></img>\n",
    "- Of the 66,055 beer represented, the most highly represented style is *American IPA* or *American Pale Ale (APA)*. <img src='figures/1.0_initial_look-2.png'></img>\n",
    "- The distribution of alcohol by volume percentage (ABV%) is roughly normal with the presence of numerous outliers. <img src='figures/1.0_initial_look-4.png'></img>"
   ]
  },
  {
   "cell_type": "markdown",
   "metadata": {
    "deletable": true,
    "editable": true
   },
   "source": [
    "## Q1: Which brewery produces the strongest beers by ABV%?"
   ]
  },
  {
   "cell_type": "markdown",
   "metadata": {
    "deletable": true,
    "editable": true
   },
   "source": [
    "### Introduction\n",
    "\n",
    "The notebook [2.0](../explore/2.0_brewery_highest_abv.ipynb) explore this questions. \n",
    "\n",
    "There are several issues with the ABV% data contained in the beer review data set:\n",
    "1. As mentioned previously, numerous beers (17,043) have missing values for ABV%; this represents about 25% of the total beers available in the dataset. It is unclear why this data is missing. One potential way around this would be to construct a model that could predict ABV% based on the scored review features (e.g. `review_taste`) as well as the `beer_style`. This was not done as part of this analysis; instead, those beers without an ABV% were ignored.\n",
    "2. Some breweries have many more beers associated with them than others (as shown above in the initial data exploration), therefore it is unclear whether having only a single strong beer qualifies the brewery as having the \"strongest beers\". <mark>For this analysis, we will assume that a brewery must have at least 5 beers for it to qualify for this questions.</mark>\n",
    "3. The initial data exploration also mentions the inherent noise with the ABV% metric, especially in the high-ABV range; this will have to be taken into account when electing beers.\n",
    "4. Because several of the breweries do not have any associated names, we will identify breweries by the `brewery_id` attribute throughout the analysis."
   ]
  },
  {
   "cell_type": "markdown",
   "metadata": {
    "deletable": true,
    "editable": true
   },
   "source": [
    "### Dealing with noisy ABV%\n",
    "\n",
    "We being by naively looking at which brewery has the highest ABV% beers without removing any noisy data in order to get a general sense of the data. To do that, we generate a *beer dataset* which contains only the metadata associated with beer, this is done by grouping the starting dataset on `beer_beerid` and simply grabing the first entry of each group. From this *beer dataset* we group on `brewery_id`, aggregate with *max*, and sort the breweries by max ABV*; the plot below shows the top 15 breweries with the highest ABV% beer.\n",
    "\n",
    "<img src='figures/2.0_brewery_highest_abv-0.png'/>\n",
    "\n",
    "Several interesting insights can be seen in this plot:\n",
    "- Noisy high-ABV beers help rank several breweries very well.\n",
    "- Brewery 6513 seems to be a general outlier when compared to the remaining breweries. In general it has very high ABV beers; it's median beer ABV is nearly higher than most all other beers represented. It is a possibility that this brewery represents some sort of anomaly.\n",
    "\n",
    "In order to remove the noise, we will use the John Tukey method of detecting outliers: that is, any beer with an ABV% value that is more than Q3 + 1.5 * IQR  or less than Q1 + 1.5 * IQR is considered an outlier. Where IQR is the inner quartile range, Q1 is the first quartile, and Q3 is the third quartile.\n",
    "\n",
    "After removing outliers, we can replot the same top 15 breweries\n",
    "\n",
    "<img src='figures/2.0_brewery_highest_abv-1.png'/>\n",
    "\n",
    "- We can see that the ABV% values for all of the breweries are much more concentrated\n",
    "- We can also see that several breweries with very few beers enter the list - a brewery with very few beers is perhaps not very representative of a brewery that is able to produce strong beers, we therefore choose to set a threshold of 5 beers needed in order for a brewery to be considered for this analysis. The disadvantage of this is that 5 is a relatively arbitrary cutoff. \n",
    "- Brewery 6513 did not contain any outliers, however it now looks to be even more anomalous when compared to the remaining breweries; <mark>we therefore elect to call brewery 6513 erroneous and we remove it from consideration</mark>\n",
    "\n",
    "With both noisy beers and brewery 6513 removed with arrive at the following distribution of breweries:\n",
    "\n",
    "<img src='figures/2.0_brewery_highest_abv-3.png'/>\n",
    "\n",
    "From the plot above, we can begin to see several candidates for highest beer ABV% brewery: 2097, 11031, 10796 and 13307:\n",
    "- 10796 has two beers with the absolute highest ABV%\n",
    "- 2097, 11031 and 13307 has a cluster of high ABV% beers"
   ]
  },
  {
   "cell_type": "markdown",
   "metadata": {
    "deletable": true,
    "editable": true
   },
   "source": [
    "### Choosing a brewery\n",
    "\n",
    "If one were to choose a brewery by the single most high-ABV% beer, the winner would be brewery 10796; however if one were to consider multiple high-ABV% beers together, a different brewery would be chosen. In the data presented above, the 95th percentile is 14.48, if one were to calculate the number of beers above this percentile we would see:"
   ]
  },
  {
   "cell_type": "code",
   "execution_count": 4,
   "metadata": {
    "collapsed": false,
    "deletable": true,
    "editable": true
   },
   "outputs": [
    {
     "data": {
      "text/html": [
       "<div>\n",
       "<table border=\"1\" class=\"dataframe\">\n",
       "  <thead>\n",
       "    <tr>\n",
       "      <th></th>\n",
       "      <th colspan=\"3\" halign=\"left\">beer_abv</th>\n",
       "    </tr>\n",
       "    <tr>\n",
       "      <th></th>\n",
       "      <th>count</th>\n",
       "      <th>median</th>\n",
       "      <th>mean</th>\n",
       "    </tr>\n",
       "    <tr>\n",
       "      <th>brewery_id</th>\n",
       "      <th></th>\n",
       "      <th></th>\n",
       "      <th></th>\n",
       "    </tr>\n",
       "  </thead>\n",
       "  <tbody>\n",
       "    <tr>\n",
       "      <th>2097</th>\n",
       "      <td>9</td>\n",
       "      <td>15.0</td>\n",
       "      <td>15.388889</td>\n",
       "    </tr>\n",
       "    <tr>\n",
       "      <th>11031</th>\n",
       "      <td>8</td>\n",
       "      <td>16.3</td>\n",
       "      <td>16.150000</td>\n",
       "    </tr>\n",
       "    <tr>\n",
       "      <th>13307</th>\n",
       "      <td>7</td>\n",
       "      <td>15.0</td>\n",
       "      <td>15.131429</td>\n",
       "    </tr>\n",
       "    <tr>\n",
       "      <th>10796</th>\n",
       "      <td>3</td>\n",
       "      <td>18.0</td>\n",
       "      <td>16.833333</td>\n",
       "    </tr>\n",
       "    <tr>\n",
       "      <th>15732</th>\n",
       "      <td>3</td>\n",
       "      <td>15.0</td>\n",
       "      <td>15.166667</td>\n",
       "    </tr>\n",
       "  </tbody>\n",
       "</table>\n",
       "</div>"
      ],
      "text/plain": [
       "           beer_abv                  \n",
       "              count median       mean\n",
       "brewery_id                           \n",
       "2097              9   15.0  15.388889\n",
       "11031             8   16.3  16.150000\n",
       "13307             7   15.0  15.131429\n",
       "10796             3   18.0  16.833333\n",
       "15732             3   15.0  15.166667"
      ]
     },
     "execution_count": 4,
     "metadata": {},
     "output_type": "execute_result"
    }
   ],
   "source": [
    "cutoff = 14.48\n",
    "dat = pd.read_csv('../../data/interim/high_beer_ABV_breweries.csv')\n",
    "beer_counts = dat[dat.beer_abv > cutoff].groupby('brewery_id').agg(['count','median','mean'])[['beer_abv']]\n",
    "beer_counts.sort_values(('beer_abv','count'),ascending=False).head(5)"
   ]
  },
  {
   "cell_type": "markdown",
   "metadata": {
    "deletable": true,
    "editable": true
   },
   "source": [
    "The breweries 2097, 11031, and 13307 all have a high number of beers (9, 8, 7 respectively) that are in the 95th percentile of highest ABV% beers among only those breweries that produce high ABV% beers. Since these numbers are quite similar, we use the median/mean ABV% to decide which brewery tends to brew numerous high ABV% beers: **11031**."
   ]
  },
  {
   "cell_type": "markdown",
   "metadata": {
    "deletable": true,
    "editable": true
   },
   "source": [
    "### Summary\n",
    "\n",
    "We have determined that brewery **11031 (Brouwerij De Molen)** produces more of the strongest ABV% beers than any other brewery, this is contingent on the following assumptions:\n",
    "- brewery 6513 is an anomaly.\n",
    "- a brewery must product at least 5 beers to be considered.\n",
    "- a single very high ABV% beer does not automatically select the given brewery since precedence is given to those breweries that produce multiple strong beers (i.e. 1 very strong beer is not better than 10 slightly less strong beers).\n",
    "\n",
    "It should be reiterated that we are excluding about 25% of the beers due to missing ABV% values; this represents a large fraction of the total data and thus creates some concern regarding whether any of these missing beers might be a high-ABV% beer. One way to get around that would be to build a predictive model based on the current data - this would prove to be a difficult task due to the fact that high-ABV% beers aren't very common. Most models would thus not predict a beer to be high ABV%"
   ]
  },
  {
   "cell_type": "markdown",
   "metadata": {
    "deletable": true,
    "editable": true
   },
   "source": [
    "## Q2: If you had to pick 3 beers to recommend using only this data, which would you pick?"
   ]
  },
  {
   "cell_type": "markdown",
   "metadata": {
    "deletable": true,
    "editable": true
   },
   "source": [
    "### Introduction\n",
    "\n",
    "The notebook [3.0](../explore/3.0_recommend_3_beers.ipynb) explores this questions.\n",
    "\n",
    "There are several issues with the given question:\n",
    "- it is unclear by what metric one might recommend beers on, <mark>for the purpose of this question, we will only use `review_overall` to gauge the \"goodness\" of a beer.</mark>\n",
    "- several of the reviews don't have an associated `review_profilename` value for it. <mark>Given that those reviews without a profilename represent a small fraction of the total reviews, we will exclude these reviews from the analysis.</mark>\n",
    "- beers are categorized by `beer_style` it is conceivable that a best beer could be chosen for each style, <mark>for the purpose of this questions, the attribute `beer_style` is not taken into account</mark>\n",
    "- as was mentioned in the initial data exploration, the number of reviews per beer varies drastically between beers; therefore we cannot naively choose those beers with the highest `review_overall` scores."
   ]
  },
  {
   "cell_type": "markdown",
   "metadata": {
    "deletable": true,
    "editable": true
   },
   "source": [
    "### Removing suspicious reviews (trolls)\n",
    "\n",
    "Before we being using the review that in order to gauge which beers are best, we need to get a sense for the quality of the scores provided in the dataset. It is conceivable that there exists reviewers that are not interested in actually rating the beer, but are rather interested in drinking the beer; we will call these reviewers trolls: that is, reviewers that do not accurately provide review scores.\n",
    "\n",
    "In order to identify trolls we subset the reviewers down to those that have reviewed more than 3 times, and for which the standard deviation of their supplied `review_overall` scores is 0 - this means that the reviewer gave the same score for all of the reviews they provided. We deem these reviews as low quality and remove them from the dataset. All in all, the analysis identified 50 reviewers that were deemed trolls and subsequently removed from the analysis; find the list of trolls in *data/interim/trolls.csv*"
   ]
  },
  {
   "cell_type": "markdown",
   "metadata": {
    "deletable": true,
    "editable": true
   },
   "source": [
    "### Determining best beer\n",
    "\n",
    "Since we cannot simply elect those beers with the highest `review_overall` score (since this would simply select all those beers with a single review of 5.0), we must take into account the number of times a beer was reviewed as well as its resulting score.\n",
    "\n",
    "We identify top ranked beers by doing the following:\n",
    "1. For each of the remaining non-troll reviewers <u>that have reviewed more than a single beer</u>, we sort the reviewed beers by decreasing `review_overall` score. We then descend the list of ranked beers until we've recorded at least 3 beers. In cases of multiple tied beer scores, we descend further into the list until the tie is broken. In this way, we guarantee to record each reviewers \"best\" beers. (this has been implemented in the function *get_highest_rated_beers()* found in *utils.py*).\n",
    "2. Next we generate a count for the number of times each beer was chosen as a best beer by all the reviewers.\n",
    "3. We then rank the beers by the number of times it was voted best beer and add various other metrics. These data were written to the file found at *data/interim/best_beers.csv*\n"
   ]
  },
  {
   "cell_type": "code",
   "execution_count": 5,
   "metadata": {
    "collapsed": false,
    "deletable": true,
    "editable": true
   },
   "outputs": [
    {
     "data": {
      "text/html": [
       "<div>\n",
       "<table border=\"1\" class=\"dataframe\">\n",
       "  <thead>\n",
       "    <tr style=\"text-align: right;\">\n",
       "      <th></th>\n",
       "      <th>counts as best beer</th>\n",
       "      <th>avg review_overall</th>\n",
       "      <th>avg review_aroma</th>\n",
       "      <th>avg review_appearance</th>\n",
       "      <th>avg review_taste</th>\n",
       "      <th>avg beer_abv</th>\n",
       "      <th>number of reviews</th>\n",
       "      <th>counts with top score</th>\n",
       "      <th>brewery_name</th>\n",
       "      <th>beer_style</th>\n",
       "      <th>beer_name</th>\n",
       "    </tr>\n",
       "    <tr>\n",
       "      <th>beer_beerid</th>\n",
       "      <th></th>\n",
       "      <th></th>\n",
       "      <th></th>\n",
       "      <th></th>\n",
       "      <th></th>\n",
       "      <th></th>\n",
       "      <th></th>\n",
       "      <th></th>\n",
       "      <th></th>\n",
       "      <th></th>\n",
       "      <th></th>\n",
       "    </tr>\n",
       "  </thead>\n",
       "  <tbody>\n",
       "    <tr>\n",
       "      <th>7971</th>\n",
       "      <td>1362</td>\n",
       "      <td>4.590028</td>\n",
       "      <td>4.612188</td>\n",
       "      <td>4.388603</td>\n",
       "      <td>4.630985</td>\n",
       "      <td>8.0</td>\n",
       "      <td>2527</td>\n",
       "      <td>1067</td>\n",
       "      <td>Russian River Brewing Company</td>\n",
       "      <td>American Double / Imperial IPA</td>\n",
       "      <td>Pliny The Elder</td>\n",
       "    </tr>\n",
       "    <tr>\n",
       "      <th>695</th>\n",
       "      <td>909</td>\n",
       "      <td>4.342180</td>\n",
       "      <td>4.151082</td>\n",
       "      <td>4.512862</td>\n",
       "      <td>4.329522</td>\n",
       "      <td>8.5</td>\n",
       "      <td>2449</td>\n",
       "      <td>591</td>\n",
       "      <td>Brouwerij Duvel Moortgat NV</td>\n",
       "      <td>Belgian Strong Pale Ale</td>\n",
       "      <td>Duvel</td>\n",
       "    </tr>\n",
       "    <tr>\n",
       "      <th>731</th>\n",
       "      <td>898</td>\n",
       "      <td>4.516414</td>\n",
       "      <td>4.296465</td>\n",
       "      <td>4.381061</td>\n",
       "      <td>4.425505</td>\n",
       "      <td>5.4</td>\n",
       "      <td>1980</td>\n",
       "      <td>695</td>\n",
       "      <td>Bayerische Staatsbrauerei Weihenstephan</td>\n",
       "      <td>Hefeweizen</td>\n",
       "      <td>Weihenstephaner Hefeweissbier</td>\n",
       "    </tr>\n",
       "    <tr>\n",
       "      <th>17112</th>\n",
       "      <td>882</td>\n",
       "      <td>4.377609</td>\n",
       "      <td>4.533156</td>\n",
       "      <td>4.242530</td>\n",
       "      <td>4.518420</td>\n",
       "      <td>10.0</td>\n",
       "      <td>2443</td>\n",
       "      <td>630</td>\n",
       "      <td>Bell's Brewery, Inc.</td>\n",
       "      <td>American Double / Imperial IPA</td>\n",
       "      <td>Bell's Hopslam Ale</td>\n",
       "    </tr>\n",
       "    <tr>\n",
       "      <th>1093</th>\n",
       "      <td>854</td>\n",
       "      <td>4.330216</td>\n",
       "      <td>4.266593</td>\n",
       "      <td>4.154199</td>\n",
       "      <td>4.319399</td>\n",
       "      <td>7.0</td>\n",
       "      <td>2727</td>\n",
       "      <td>554</td>\n",
       "      <td>Bell's Brewery, Inc.</td>\n",
       "      <td>American IPA</td>\n",
       "      <td>Two Hearted Ale</td>\n",
       "    </tr>\n",
       "    <tr>\n",
       "      <th>11757</th>\n",
       "      <td>847</td>\n",
       "      <td>4.354658</td>\n",
       "      <td>4.412035</td>\n",
       "      <td>4.364454</td>\n",
       "      <td>4.501200</td>\n",
       "      <td>8.3</td>\n",
       "      <td>2501</td>\n",
       "      <td>507</td>\n",
       "      <td>Founders Brewing Company</td>\n",
       "      <td>American Double / Imperial Stout</td>\n",
       "      <td>Founders Breakfast Stout</td>\n",
       "    </tr>\n",
       "    <tr>\n",
       "      <th>2093</th>\n",
       "      <td>840</td>\n",
       "      <td>4.145485</td>\n",
       "      <td>4.213439</td>\n",
       "      <td>4.192156</td>\n",
       "      <td>4.325935</td>\n",
       "      <td>9.0</td>\n",
       "      <td>3289</td>\n",
       "      <td>396</td>\n",
       "      <td>Dogfish Head Brewery</td>\n",
       "      <td>American Double / Imperial IPA</td>\n",
       "      <td>90 Minute IPA</td>\n",
       "    </tr>\n",
       "    <tr>\n",
       "      <th>34</th>\n",
       "      <td>791</td>\n",
       "      <td>4.298027</td>\n",
       "      <td>4.231977</td>\n",
       "      <td>4.193919</td>\n",
       "      <td>4.396093</td>\n",
       "      <td>9.0</td>\n",
       "      <td>2483</td>\n",
       "      <td>492</td>\n",
       "      <td>Unibroue</td>\n",
       "      <td>Tripel</td>\n",
       "      <td>La Fin Du Monde</td>\n",
       "    </tr>\n",
       "    <tr>\n",
       "      <th>276</th>\n",
       "      <td>772</td>\n",
       "      <td>4.245845</td>\n",
       "      <td>3.915539</td>\n",
       "      <td>3.995168</td>\n",
       "      <td>4.115385</td>\n",
       "      <td>5.6</td>\n",
       "      <td>2587</td>\n",
       "      <td>416</td>\n",
       "      <td>Sierra Nevada Brewing Co.</td>\n",
       "      <td>American Pale Ale (APA)</td>\n",
       "      <td>Sierra Nevada Pale Ale</td>\n",
       "    </tr>\n",
       "    <tr>\n",
       "      <th>412</th>\n",
       "      <td>765</td>\n",
       "      <td>4.174116</td>\n",
       "      <td>4.198553</td>\n",
       "      <td>4.374116</td>\n",
       "      <td>4.342122</td>\n",
       "      <td>9.0</td>\n",
       "      <td>3110</td>\n",
       "      <td>342</td>\n",
       "      <td>North Coast Brewing Co.</td>\n",
       "      <td>Russian Imperial Stout</td>\n",
       "      <td>Old Rasputin Russian Imperial Stout</td>\n",
       "    </tr>\n",
       "  </tbody>\n",
       "</table>\n",
       "</div>"
      ],
      "text/plain": [
       "             counts as best beer  avg review_overall  avg review_aroma  \\\n",
       "beer_beerid                                                              \n",
       "7971                        1362            4.590028          4.612188   \n",
       "695                          909            4.342180          4.151082   \n",
       "731                          898            4.516414          4.296465   \n",
       "17112                        882            4.377609          4.533156   \n",
       "1093                         854            4.330216          4.266593   \n",
       "11757                        847            4.354658          4.412035   \n",
       "2093                         840            4.145485          4.213439   \n",
       "34                           791            4.298027          4.231977   \n",
       "276                          772            4.245845          3.915539   \n",
       "412                          765            4.174116          4.198553   \n",
       "\n",
       "             avg review_appearance  avg review_taste  avg beer_abv  \\\n",
       "beer_beerid                                                          \n",
       "7971                      4.388603          4.630985           8.0   \n",
       "695                       4.512862          4.329522           8.5   \n",
       "731                       4.381061          4.425505           5.4   \n",
       "17112                     4.242530          4.518420          10.0   \n",
       "1093                      4.154199          4.319399           7.0   \n",
       "11757                     4.364454          4.501200           8.3   \n",
       "2093                      4.192156          4.325935           9.0   \n",
       "34                        4.193919          4.396093           9.0   \n",
       "276                       3.995168          4.115385           5.6   \n",
       "412                       4.374116          4.342122           9.0   \n",
       "\n",
       "             number of reviews  counts with top score  \\\n",
       "beer_beerid                                             \n",
       "7971                      2527                   1067   \n",
       "695                       2449                    591   \n",
       "731                       1980                    695   \n",
       "17112                     2443                    630   \n",
       "1093                      2727                    554   \n",
       "11757                     2501                    507   \n",
       "2093                      3289                    396   \n",
       "34                        2483                    492   \n",
       "276                       2587                    416   \n",
       "412                       3110                    342   \n",
       "\n",
       "                                        brewery_name  \\\n",
       "beer_beerid                                            \n",
       "7971                   Russian River Brewing Company   \n",
       "695                      Brouwerij Duvel Moortgat NV   \n",
       "731          Bayerische Staatsbrauerei Weihenstephan   \n",
       "17112                           Bell's Brewery, Inc.   \n",
       "1093                            Bell's Brewery, Inc.   \n",
       "11757                       Founders Brewing Company   \n",
       "2093                            Dogfish Head Brewery   \n",
       "34                                          Unibroue   \n",
       "276                        Sierra Nevada Brewing Co.   \n",
       "412                          North Coast Brewing Co.   \n",
       "\n",
       "                                   beer_style  \\\n",
       "beer_beerid                                     \n",
       "7971           American Double / Imperial IPA   \n",
       "695                   Belgian Strong Pale Ale   \n",
       "731                                Hefeweizen   \n",
       "17112          American Double / Imperial IPA   \n",
       "1093                             American IPA   \n",
       "11757        American Double / Imperial Stout   \n",
       "2093           American Double / Imperial IPA   \n",
       "34                                     Tripel   \n",
       "276                   American Pale Ale (APA)   \n",
       "412                    Russian Imperial Stout   \n",
       "\n",
       "                                       beer_name  \n",
       "beer_beerid                                       \n",
       "7971                             Pliny The Elder  \n",
       "695                                        Duvel  \n",
       "731                Weihenstephaner Hefeweissbier  \n",
       "17112                         Bell's Hopslam Ale  \n",
       "1093                             Two Hearted Ale  \n",
       "11757                   Founders Breakfast Stout  \n",
       "2093                               90 Minute IPA  \n",
       "34                               La Fin Du Monde  \n",
       "276                       Sierra Nevada Pale Ale  \n",
       "412          Old Rasputin Russian Imperial Stout  "
      ]
     },
     "execution_count": 5,
     "metadata": {},
     "output_type": "execute_result"
    }
   ],
   "source": [
    "top10 = pd.read_csv('../../data/interim/best_beers.csv', index_col=0).head(10)\n",
    "top10"
   ]
  },
  {
   "cell_type": "markdown",
   "metadata": {
    "deletable": true,
    "editable": true
   },
   "source": [
    "The table above presents 10 of the \"best\" beers as ranked by `review_overall`. We can see that beer 7971 is a very highly ranked beer, that has been reviewed many times (2527) and which received a perfect score of 5.0 a total of 1067 times (see column *counts with top score*). However, as we descend down the column *counts as best beer* the remaining beers seem to be equally \"good\" with counts in the ranges 800 to 900. One issue with using just this count value is that, as we saw previously, these beers aren't ranked the same number of times. Take for example beer 2093, which was ranked over 3,000 times; compare that to the slightly less than 2,000 times beer 731 was ranked.\n",
    "\n",
    "In order to decide the remaining best beers, we will calculate the effect size of the beers `review_overall` scores against all the remaining beers in the dataset. We will use [Cohen's d](https://en.wikipedia.org/wiki/Effect_size#Cohen.27s_d) to calculate the effect size and recommend those beers with the highest effect size."
   ]
  },
  {
   "cell_type": "code",
   "execution_count": 6,
   "metadata": {
    "collapsed": false,
    "deletable": true,
    "editable": true
   },
   "outputs": [
    {
     "data": {
      "text/html": [
       "<div>\n",
       "<table border=\"1\" class=\"dataframe\">\n",
       "  <thead>\n",
       "    <tr style=\"text-align: right;\">\n",
       "      <th></th>\n",
       "      <th>cohen_d</th>\n",
       "    </tr>\n",
       "  </thead>\n",
       "  <tbody>\n",
       "    <tr>\n",
       "      <th>7971</th>\n",
       "      <td>1.077399</td>\n",
       "    </tr>\n",
       "    <tr>\n",
       "      <th>731</th>\n",
       "      <td>0.973617</td>\n",
       "    </tr>\n",
       "    <tr>\n",
       "      <th>17112</th>\n",
       "      <td>0.781491</td>\n",
       "    </tr>\n",
       "  </tbody>\n",
       "</table>\n",
       "</div>"
      ],
      "text/plain": [
       "        cohen_d\n",
       "7971   1.077399\n",
       "731    0.973617\n",
       "17112  0.781491"
      ]
     },
     "execution_count": 6,
     "metadata": {},
     "output_type": "execute_result"
    }
   ],
   "source": [
    "effect_size = dict()\n",
    "for beer in top10.index:\n",
    "    a = dat_raw[dat_raw.beer_beerid==beer].review_overall\n",
    "    b = dat_raw[dat_raw.beer_beerid!=beer].review_overall\n",
    "    effect_size[beer] = utils.cohen_d(a,b)\n",
    "    \n",
    "effect_size = pd.DataFrame(effect_size, index=[0]).transpose()\n",
    "effect_size.columns = ['cohen_d']\n",
    "effect_size.sort_values('cohen_d', ascending=False).head(3)"
   ]
  },
  {
   "cell_type": "markdown",
   "metadata": {
    "deletable": true,
    "editable": true
   },
   "source": [
    "### Summary\n",
    "\n",
    "Given the data at hand, we would recommend the beers:\n",
    "1. **7971 (Pliny The Elder, Russian River Brewing Company)**\n",
    "2. **731 (Weihenstephaner Hefeweissbier, Bayerische Staatsbrauerei Weihenstephan)**\n",
    "3. **17112 (Bell's Hopslam Ale, Bell's Brewery, Inc.)** \n",
    "\n",
    "since they are ranked to be the best overall beers as deemed by the reviewers; this is contingent on:\n",
    "\n",
    "- removing those reviews with no associated reviewer name\n",
    "- removing those reviews from those reviewers that reviewed only a single beer or where deemed to be trolls\n",
    "- beers were judged only by the `review_overall` scores because it was assumed this metric most accurately represented the \"goodness\" of a beer."
   ]
  },
  {
   "cell_type": "markdown",
   "metadata": {
    "deletable": true,
    "editable": true
   },
   "source": [
    "## Q3: Which of the factors (aroma, taste, appearance, palette) are most important in determining the overall quality of a beer?"
   ]
  },
  {
   "cell_type": "markdown",
   "metadata": {
    "deletable": true,
    "editable": true
   },
   "source": [
    "### Introduction\n",
    "\n",
    "The notebook [4.0](../explore/4.0_factors_for_beer_quality.ipynb) explores this questions.\n",
    "\n",
    "Another way of phrasing the question is to determine which factors (`review_aroma`, `review_taste`, `review_appearance` or `review_palette` explain the most variance in the overall quality of beer (`review_overall`). Given the results from the previous two questions we know that we can do the following:\n",
    "- remove the reviews that had no associated `review_profilename`\n",
    "- there were numerous \"troll\" reviewers which should be removed from the dataset (trolls written to *../../data/interim/trolls.csv*)\n",
    "\n",
    "<mark>It is assumed that the overall quality of beer is directly measured by the attribute `review_overall`.</mark>\n",
    "\n",
    "We can take multiple regression approaches to identifying which factor is more important in determining the overall quality of beer; in the analysis below, we will apply these multiple approaches to arrive at a consensus of which factor is most important."
   ]
  },
  {
   "cell_type": "markdown",
   "metadata": {
    "deletable": true,
    "editable": true
   },
   "source": [
    "### Analysis\n",
    "\n",
    "We begin our first approach by simply applying a univariate linear regression of each factor on `review_overall`; in doing so we can measure how correlated each factor is to the overall quality. The table below shows the results of those regressions with each factor:"
   ]
  },
  {
   "cell_type": "code",
   "execution_count": 9,
   "metadata": {
    "collapsed": false,
    "deletable": true,
    "editable": true
   },
   "outputs": [
    {
     "data": {
      "text/html": [
       "<div>\n",
       "<table border=\"1\" class=\"dataframe\">\n",
       "  <thead>\n",
       "    <tr style=\"text-align: right;\">\n",
       "      <th></th>\n",
       "      <th>r^2</th>\n",
       "      <th>p</th>\n",
       "      <th>std err</th>\n",
       "    </tr>\n",
       "    <tr>\n",
       "      <th>factor</th>\n",
       "      <th></th>\n",
       "      <th></th>\n",
       "      <th></th>\n",
       "    </tr>\n",
       "  </thead>\n",
       "  <tbody>\n",
       "    <tr>\n",
       "      <th>review_taste</th>\n",
       "      <td>0.623780</td>\n",
       "      <td>0</td>\n",
       "      <td>0.000495</td>\n",
       "    </tr>\n",
       "    <tr>\n",
       "      <th>review_palate</th>\n",
       "      <td>0.492664</td>\n",
       "      <td>0</td>\n",
       "      <td>0.000535</td>\n",
       "    </tr>\n",
       "    <tr>\n",
       "      <th>review_aroma</th>\n",
       "      <td>0.379439</td>\n",
       "      <td>0</td>\n",
       "      <td>0.000605</td>\n",
       "    </tr>\n",
       "    <tr>\n",
       "      <th>review_appearance</th>\n",
       "      <td>0.251726</td>\n",
       "      <td>0</td>\n",
       "      <td>0.000587</td>\n",
       "    </tr>\n",
       "  </tbody>\n",
       "</table>\n",
       "</div>"
      ],
      "text/plain": [
       "                        r^2  p   std err\n",
       "factor                                  \n",
       "review_taste       0.623780  0  0.000495\n",
       "review_palate      0.492664  0  0.000535\n",
       "review_aroma       0.379439  0  0.000605\n",
       "review_appearance  0.251726  0  0.000587"
      ]
     },
     "execution_count": 9,
     "metadata": {},
     "output_type": "execute_result"
    }
   ],
   "source": [
    "pd.read_csv('../../data/interim/beer_factors_linear_regression.csv', index_col=0).sort_values('r^2', ascending=False)"
   ]
  },
  {
   "cell_type": "markdown",
   "metadata": {
    "deletable": true,
    "editable": true
   },
   "source": [
    "Using this technique, we can see that `review_taste` explains the most variance in `review_overall` (r^2 = 0.62). This issue with this technique however is that it treats each factor as independent and does not consider any additive or interaction effects. To take those into account we run a multivariate linear model analysis on the data and allow for full interaction between all terms; the results below show the summary of that analysis."
   ]
  },
  {
   "cell_type": "code",
   "execution_count": 15,
   "metadata": {
    "collapsed": false,
    "deletable": true,
    "editable": true
   },
   "outputs": [
    {
     "name": "stdout",
     "output_type": "stream",
     "text": [
      "                            OLS Regression Results                            \n",
      "==============================================================================\n",
      "Dep. Variable:         review_overall   R-squared:                       0.664\n",
      "Model:                            OLS   Adj. R-squared:                  0.664\n",
      "Method:                 Least Squares   F-statistic:                 2.087e+05\n",
      "Date:                Tue, 20 Jun 2017   Prob (F-statistic):               0.00\n",
      "Time:                        21:32:52   Log-Likelihood:            -8.6659e+05\n",
      "No. Observations:             1586266   AIC:                         1.733e+06\n",
      "Df Residuals:                 1586250   BIC:                         1.733e+06\n",
      "Df Model:                          15                                         \n",
      "Covariance Type:            nonrobust                                         \n",
      "=============================================================================================================================\n",
      "                                                                coef    std err          t      P>|t|      [95.0% Conf. Int.]\n",
      "-----------------------------------------------------------------------------------------------------------------------------\n",
      "Intercept                                                     0.5373      0.041     13.086      0.000         0.457     0.618\n",
      "review_aroma                                                 -0.0797      0.020     -4.062      0.000        -0.118    -0.041\n",
      "review_appearance                                            -0.1243      0.014     -8.696      0.000        -0.152    -0.096\n",
      "review_aroma:review_appearance                               -0.0022      0.006     -0.387      0.699        -0.013     0.009\n",
      "review_palate                                                 0.2483      0.019     12.927      0.000         0.211     0.286\n",
      "review_aroma:review_palate                                    0.0687      0.007      9.774      0.000         0.055     0.082\n",
      "review_appearance:review_palate                              -0.0441      0.006     -7.810      0.000        -0.055    -0.033\n",
      "review_aroma:review_appearance:review_palate                  0.0161      0.002      8.612      0.000         0.012     0.020\n",
      "review_taste                                                  0.5646      0.022     25.605      0.000         0.521     0.608\n",
      "review_aroma:review_taste                                     0.0099      0.007      1.461      0.144        -0.003     0.023\n",
      "review_appearance:review_taste                                0.1050      0.006     16.240      0.000         0.092     0.118\n",
      "review_aroma:review_appearance:review_taste                  -0.0117      0.002     -6.396      0.000        -0.015    -0.008\n",
      "review_palate:review_taste                                    0.0365      0.007      5.491      0.000         0.023     0.049\n",
      "review_aroma:review_palate:review_taste                      -0.0239      0.002    -12.900      0.000        -0.028    -0.020\n",
      "review_appearance:review_palate:review_taste                 -0.0161      0.002     -8.951      0.000        -0.020    -0.013\n",
      "review_aroma:review_appearance:review_palate:review_taste     0.0022      0.000      4.643      0.000         0.001     0.003\n",
      "==============================================================================\n",
      "Omnibus:                    86434.813   Durbin-Watson:                   1.804\n",
      "Prob(Omnibus):                  0.000   Jarque-Bera (JB):           353400.563\n",
      "Skew:                          -0.052   Prob(JB):                         0.00\n",
      "Kurtosis:                       5.310   Cond. No.                     4.39e+04\n",
      "==============================================================================\n",
      "\n",
      "Warnings:\n",
      "[1] Standard Errors assume that the covariance matrix of the errors is correctly specified.\n",
      "[2] The condition number is large, 4.39e+04. This might indicate that there are\n",
      "strong multicollinearity or other numerical problems.\n"
     ]
    }
   ],
   "source": [
    "with open('../../data/interim/ols.txt', 'r') as fin:\n",
    "    ols = ''.join(fin.readlines())\n",
    "print ols"
   ]
  },
  {
   "cell_type": "markdown",
   "metadata": {
    "deletable": true,
    "editable": true
   },
   "source": [
    "The main takeaway from these results is that the r^2 value of this much more complex model (0.664) is not appreciably better than the univariate model using just `review_taste`. This further points us in the direction that `review_taste` has the most impact on `review_overall` scores.\n",
    "\n",
    "A final approach is to train a Random Forest regression model on the entire dataset and use the feature importance scores it produces as a gauge for the most important factor. We use a gridsearch in a cross-validated manner (3-fold) in order to do a little bit of hyper parameter tuning; in this way we can use our entire dataset to ensure we have a well trained model. By inspecting the analysis jupyter notebook, one can see that `review_taste` has a much higher feature importance than any of the other factors."
   ]
  },
  {
   "cell_type": "markdown",
   "metadata": {
    "deletable": true,
    "editable": true
   },
   "source": [
    "### Summary\n",
    "\n",
    "By using numerous regression approaches, we were able to show that **review_taste** is the factor most important in determining the overall quality of beer."
   ]
  },
  {
   "cell_type": "markdown",
   "metadata": {
    "deletable": true,
    "editable": true
   },
   "source": [
    "## Q4: If I enjoy a beer's aroma and appearance, which beer style should I try?"
   ]
  },
  {
   "cell_type": "markdown",
   "metadata": {
    "deletable": true,
    "editable": true
   },
   "source": [
    "### Introduction\n",
    "\n",
    "The notebook [5.0](../explore/5.0_beer_style.ipynb) explores this questions.\n",
    "\n",
    "This questions, as opposed to the previous one, is a classification type problem. We are interested in identifying which class of `beer_style` is most highly correlated with high scores for both `review_aroma` and `review_appearance`. We will tackle this problem first by using simple descriptive stats, and then later by using numerous machine learning models.\n",
    "\n",
    "As we've identified in previous analyses, we will be removing any reviews that do not have an associated reviewer name and we will also be removing the \"trolls\"."
   ]
  },
  {
   "cell_type": "markdown",
   "metadata": {
    "deletable": true,
    "editable": true
   },
   "source": [
    "### Descriptive stats\n",
    "\n",
    "We begin by naively applying various descriptive stats to the two factors in question; furthermore, we engineer a feature by taking the mean score of `review_aroma` and `review_appearance`. These stats are all shown in the table below (sorted by `combo_score` mean)"
   ]
  },
  {
   "cell_type": "code",
   "execution_count": 11,
   "metadata": {
    "collapsed": false,
    "deletable": true,
    "editable": true
   },
   "outputs": [
    {
     "data": {
      "text/html": [
       "<div>\n",
       "<table border=\"1\" class=\"dataframe\">\n",
       "  <thead>\n",
       "    <tr style=\"text-align: right;\">\n",
       "      <th></th>\n",
       "      <th>aroma mean</th>\n",
       "      <th>aroma median</th>\n",
       "      <th>aroma std</th>\n",
       "      <th>aroma max</th>\n",
       "      <th>appearance mean</th>\n",
       "      <th>appearance median</th>\n",
       "      <th>appearance std</th>\n",
       "      <th>appearance max</th>\n",
       "      <th>combo mean</th>\n",
       "      <th>combo median</th>\n",
       "      <th>combo std</th>\n",
       "      <th>combo max</th>\n",
       "      <th>num beers</th>\n",
       "      <th>mean abv</th>\n",
       "    </tr>\n",
       "    <tr>\n",
       "      <th>beer_style</th>\n",
       "      <th></th>\n",
       "      <th></th>\n",
       "      <th></th>\n",
       "      <th></th>\n",
       "      <th></th>\n",
       "      <th></th>\n",
       "      <th></th>\n",
       "      <th></th>\n",
       "      <th></th>\n",
       "      <th></th>\n",
       "      <th></th>\n",
       "      <th></th>\n",
       "      <th></th>\n",
       "      <th></th>\n",
       "    </tr>\n",
       "  </thead>\n",
       "  <tbody>\n",
       "    <tr>\n",
       "      <th>American Double / Imperial Stout</th>\n",
       "      <td>4.160604</td>\n",
       "      <td>4.0</td>\n",
       "      <td>0.570494</td>\n",
       "      <td>5.0</td>\n",
       "      <td>4.163563</td>\n",
       "      <td>4.0</td>\n",
       "      <td>0.515692</td>\n",
       "      <td>5.0</td>\n",
       "      <td>4.162084</td>\n",
       "      <td>4.25</td>\n",
       "      <td>0.446933</td>\n",
       "      <td>5.0</td>\n",
       "      <td>50696</td>\n",
       "      <td>10.605530</td>\n",
       "    </tr>\n",
       "    <tr>\n",
       "      <th>Russian Imperial Stout</th>\n",
       "      <td>4.076571</td>\n",
       "      <td>4.0</td>\n",
       "      <td>0.542298</td>\n",
       "      <td>5.0</td>\n",
       "      <td>4.210070</td>\n",
       "      <td>4.0</td>\n",
       "      <td>0.508619</td>\n",
       "      <td>5.0</td>\n",
       "      <td>4.143320</td>\n",
       "      <td>4.25</td>\n",
       "      <td>0.434802</td>\n",
       "      <td>5.0</td>\n",
       "      <td>54120</td>\n",
       "      <td>9.986842</td>\n",
       "    </tr>\n",
       "    <tr>\n",
       "      <th>Quadrupel (Quad)</th>\n",
       "      <td>4.132493</td>\n",
       "      <td>4.0</td>\n",
       "      <td>0.544134</td>\n",
       "      <td>5.0</td>\n",
       "      <td>4.117922</td>\n",
       "      <td>4.0</td>\n",
       "      <td>0.514125</td>\n",
       "      <td>5.0</td>\n",
       "      <td>4.125207</td>\n",
       "      <td>4.25</td>\n",
       "      <td>0.448639</td>\n",
       "      <td>5.0</td>\n",
       "      <td>18084</td>\n",
       "      <td>10.461493</td>\n",
       "    </tr>\n",
       "    <tr>\n",
       "      <th>American Double / Imperial IPA</th>\n",
       "      <td>4.097774</td>\n",
       "      <td>4.0</td>\n",
       "      <td>0.568202</td>\n",
       "      <td>5.0</td>\n",
       "      <td>4.078882</td>\n",
       "      <td>4.0</td>\n",
       "      <td>0.469201</td>\n",
       "      <td>5.0</td>\n",
       "      <td>4.088328</td>\n",
       "      <td>4.00</td>\n",
       "      <td>0.430182</td>\n",
       "      <td>5.0</td>\n",
       "      <td>85958</td>\n",
       "      <td>9.370207</td>\n",
       "    </tr>\n",
       "    <tr>\n",
       "      <th>Gueuze</th>\n",
       "      <td>4.117696</td>\n",
       "      <td>4.0</td>\n",
       "      <td>0.560120</td>\n",
       "      <td>5.0</td>\n",
       "      <td>4.034876</td>\n",
       "      <td>4.0</td>\n",
       "      <td>0.500074</td>\n",
       "      <td>5.0</td>\n",
       "      <td>4.076286</td>\n",
       "      <td>4.25</td>\n",
       "      <td>0.450927</td>\n",
       "      <td>5.0</td>\n",
       "      <td>6007</td>\n",
       "      <td>5.598439</td>\n",
       "    </tr>\n",
       "    <tr>\n",
       "      <th>American Wild Ale</th>\n",
       "      <td>4.126756</td>\n",
       "      <td>4.0</td>\n",
       "      <td>0.565143</td>\n",
       "      <td>5.0</td>\n",
       "      <td>4.005451</td>\n",
       "      <td>4.0</td>\n",
       "      <td>0.501612</td>\n",
       "      <td>5.0</td>\n",
       "      <td>4.066104</td>\n",
       "      <td>4.00</td>\n",
       "      <td>0.442322</td>\n",
       "      <td>5.0</td>\n",
       "      <td>17794</td>\n",
       "      <td>7.713634</td>\n",
       "    </tr>\n",
       "    <tr>\n",
       "      <th>Eisbock</th>\n",
       "      <td>4.156778</td>\n",
       "      <td>4.0</td>\n",
       "      <td>0.528950</td>\n",
       "      <td>5.0</td>\n",
       "      <td>3.964514</td>\n",
       "      <td>4.0</td>\n",
       "      <td>0.496758</td>\n",
       "      <td>5.0</td>\n",
       "      <td>4.060646</td>\n",
       "      <td>4.00</td>\n",
       "      <td>0.412955</td>\n",
       "      <td>5.0</td>\n",
       "      <td>2663</td>\n",
       "      <td>11.392852</td>\n",
       "    </tr>\n",
       "    <tr>\n",
       "      <th>American Barleywine</th>\n",
       "      <td>4.019348</td>\n",
       "      <td>4.0</td>\n",
       "      <td>0.524654</td>\n",
       "      <td>5.0</td>\n",
       "      <td>4.036376</td>\n",
       "      <td>4.0</td>\n",
       "      <td>0.478667</td>\n",
       "      <td>5.0</td>\n",
       "      <td>4.027862</td>\n",
       "      <td>4.00</td>\n",
       "      <td>0.408577</td>\n",
       "      <td>5.0</td>\n",
       "      <td>26721</td>\n",
       "      <td>10.703676</td>\n",
       "    </tr>\n",
       "    <tr>\n",
       "      <th>Belgian IPA</th>\n",
       "      <td>3.979666</td>\n",
       "      <td>4.0</td>\n",
       "      <td>0.511232</td>\n",
       "      <td>5.0</td>\n",
       "      <td>4.075199</td>\n",
       "      <td>4.0</td>\n",
       "      <td>0.481009</td>\n",
       "      <td>5.0</td>\n",
       "      <td>4.027432</td>\n",
       "      <td>4.00</td>\n",
       "      <td>0.402156</td>\n",
       "      <td>5.0</td>\n",
       "      <td>12467</td>\n",
       "      <td>8.349086</td>\n",
       "    </tr>\n",
       "    <tr>\n",
       "      <th>Weizenbock</th>\n",
       "      <td>4.044677</td>\n",
       "      <td>4.0</td>\n",
       "      <td>0.519257</td>\n",
       "      <td>5.0</td>\n",
       "      <td>4.009297</td>\n",
       "      <td>4.0</td>\n",
       "      <td>0.510222</td>\n",
       "      <td>5.0</td>\n",
       "      <td>4.026987</td>\n",
       "      <td>4.00</td>\n",
       "      <td>0.427077</td>\n",
       "      <td>5.0</td>\n",
       "      <td>9412</td>\n",
       "      <td>8.135482</td>\n",
       "    </tr>\n",
       "  </tbody>\n",
       "</table>\n",
       "</div>"
      ],
      "text/plain": [
       "                                  aroma mean  aroma median  aroma std  \\\n",
       "beer_style                                                              \n",
       "American Double / Imperial Stout    4.160604           4.0   0.570494   \n",
       "Russian Imperial Stout              4.076571           4.0   0.542298   \n",
       "Quadrupel (Quad)                    4.132493           4.0   0.544134   \n",
       "American Double / Imperial IPA      4.097774           4.0   0.568202   \n",
       "Gueuze                              4.117696           4.0   0.560120   \n",
       "American Wild Ale                   4.126756           4.0   0.565143   \n",
       "Eisbock                             4.156778           4.0   0.528950   \n",
       "American Barleywine                 4.019348           4.0   0.524654   \n",
       "Belgian IPA                         3.979666           4.0   0.511232   \n",
       "Weizenbock                          4.044677           4.0   0.519257   \n",
       "\n",
       "                                  aroma max  appearance mean  \\\n",
       "beer_style                                                     \n",
       "American Double / Imperial Stout        5.0         4.163563   \n",
       "Russian Imperial Stout                  5.0         4.210070   \n",
       "Quadrupel (Quad)                        5.0         4.117922   \n",
       "American Double / Imperial IPA          5.0         4.078882   \n",
       "Gueuze                                  5.0         4.034876   \n",
       "American Wild Ale                       5.0         4.005451   \n",
       "Eisbock                                 5.0         3.964514   \n",
       "American Barleywine                     5.0         4.036376   \n",
       "Belgian IPA                             5.0         4.075199   \n",
       "Weizenbock                              5.0         4.009297   \n",
       "\n",
       "                                  appearance median  appearance std  \\\n",
       "beer_style                                                            \n",
       "American Double / Imperial Stout                4.0        0.515692   \n",
       "Russian Imperial Stout                          4.0        0.508619   \n",
       "Quadrupel (Quad)                                4.0        0.514125   \n",
       "American Double / Imperial IPA                  4.0        0.469201   \n",
       "Gueuze                                          4.0        0.500074   \n",
       "American Wild Ale                               4.0        0.501612   \n",
       "Eisbock                                         4.0        0.496758   \n",
       "American Barleywine                             4.0        0.478667   \n",
       "Belgian IPA                                     4.0        0.481009   \n",
       "Weizenbock                                      4.0        0.510222   \n",
       "\n",
       "                                  appearance max  combo mean  combo median  \\\n",
       "beer_style                                                                   \n",
       "American Double / Imperial Stout             5.0    4.162084          4.25   \n",
       "Russian Imperial Stout                       5.0    4.143320          4.25   \n",
       "Quadrupel (Quad)                             5.0    4.125207          4.25   \n",
       "American Double / Imperial IPA               5.0    4.088328          4.00   \n",
       "Gueuze                                       5.0    4.076286          4.25   \n",
       "American Wild Ale                            5.0    4.066104          4.00   \n",
       "Eisbock                                      5.0    4.060646          4.00   \n",
       "American Barleywine                          5.0    4.027862          4.00   \n",
       "Belgian IPA                                  5.0    4.027432          4.00   \n",
       "Weizenbock                                   5.0    4.026987          4.00   \n",
       "\n",
       "                                  combo std  combo max  num beers   mean abv  \n",
       "beer_style                                                                    \n",
       "American Double / Imperial Stout   0.446933        5.0      50696  10.605530  \n",
       "Russian Imperial Stout             0.434802        5.0      54120   9.986842  \n",
       "Quadrupel (Quad)                   0.448639        5.0      18084  10.461493  \n",
       "American Double / Imperial IPA     0.430182        5.0      85958   9.370207  \n",
       "Gueuze                             0.450927        5.0       6007   5.598439  \n",
       "American Wild Ale                  0.442322        5.0      17794   7.713634  \n",
       "Eisbock                            0.412955        5.0       2663  11.392852  \n",
       "American Barleywine                0.408577        5.0      26721  10.703676  \n",
       "Belgian IPA                        0.402156        5.0      12467   8.349086  \n",
       "Weizenbock                         0.427077        5.0       9412   8.135482  "
      ]
     },
     "execution_count": 11,
     "metadata": {},
     "output_type": "execute_result"
    }
   ],
   "source": [
    "pd.read_csv('../../data/interim/factor_stats.csv', index_col=0).head(10)"
   ]
  },
  {
   "cell_type": "markdown",
   "metadata": {
    "deletable": true,
    "editable": true
   },
   "source": [
    "The beers above show those that are both highly rated (on average) in aroma and appearance -> these numbers suggest *American Double / Imperial Stout* be the `beer_style` to recommend. It should be noted that *American Double / Imperial IPA* was reviewed more than any other beer, and thus we can be more confident in scores attributed to this beer. It should also, perhaps, come as no surprise that the most highly ranked beers tend to have a high ABV% (as that would contribute to taste)\n",
    "\n",
    "Another simple approach would be to filter out all the beers that were scored low in both aroma and appearance; for example, if we filter out all beers that scored below 4.0 in these two factors, we might consider the beer styles that remain to be good candidates for the question at hand. We can then rank the beer styles by the ratio of of beers that remain (w.r.t to the total starting in each category). If we rank these beers at multiple cutoffs, we can get a better sense to how the beers ranks.\n",
    "\n",
    "<img src='figures/5.0_beer_style-0.png'/>\n",
    "\n",
    "The heatmap above shows how the highest rated `beer_style` rank (0 is highest rank) as the cutoff value for score is increased from 4 to 5. We can see that *Quadrupel (Quad)*, *American Double/Imperial Stout* and *Russian Imperial Stout* consistently rank as the highest or second-highest rated `beer_style` all throughout the range of score cutoff.\n",
    "\n",
    "In general, the following beers show up highly ranked (top 5) across most cutoffs:\n",
    "- Quadrupel (Quad)\n",
    "- American Double/Imperial Stout\n",
    "- Russian Imperial Stout\n",
    "- American Double / Imperial IPA\n",
    "\n",
    "It's interesting to note that the *Biere Brut* shows up highly ranked only at cutoffs above 4.5. Furthermore, many of the beers on this list look to be the same types of beers: IPA, Stout or Sours (Lambic/Fruit). This gives us confidence that we are pulling out the right groups of beer style."
   ]
  },
  {
   "cell_type": "markdown",
   "metadata": {
    "deletable": true,
    "editable": true
   },
   "source": [
    "### Machine learning classification\n",
    "\n",
    "Several machine learning classification models were trained with this data set; then, simulated aroma and appearance scores were fed into the models and predictions for best beer style were acquired. Originally, all beer styles were included, however that produced very poor accuracy results. After subsetting the beer_styles to those shown on the heatmap we retrained the models on the training data and then calculated accuracies on a hold-out test set. \n",
    "\n",
    "The random forest classifier predicts the beer style of 'American Double / Imperial IPA' when predicting on scores of aroma and appearance up to 4.7; whereas for scores of 4.8 and above it predicts 'American Double / Imperial Stout'. The logistic regression model predicts 'American Double / Imperial IPA' all throughout the score range.\n",
    "\n",
    "It should be noted that for all the predictions, the calculated probabilities were low - therefore the confidence in these predictions is not very high. Furthermore, it should be noted that the Imperial IPA is quite over represented, especially when compared to the American Double / Imperial IPA."
   ]
  },
  {
   "cell_type": "markdown",
   "metadata": {
    "deletable": true,
    "editable": true
   },
   "source": [
    "### Summary\n",
    "\n",
    "All of the results for beer style that rank highly in aroma and appearance seem to fall into a single larger meta-category: beers that are strong, dark ales. This includes the styles:\n",
    "- Quadrupel (Quad)\n",
    "- American Double/Imperial Stout\n",
    "- Russian Imperial Stout\n",
    "- American Double / Imperial IPA\n",
    "\n",
    "It is difficult to pick just a single one that would guarantee enjoyment in both aroma and appearance, therefore it is our suggestion that any of the 4 beer styles above would guarantee enjoyment."
   ]
  },
  {
   "cell_type": "markdown",
   "metadata": {
    "deletable": true,
    "editable": true
   },
   "source": [
    "## Q5: Generate 10,000 random numbers (i.e. sample) from a Logistic distribution with parameters “location\" = 10 and “scale” = 2."
   ]
  },
  {
   "cell_type": "markdown",
   "metadata": {
    "deletable": true,
    "editable": true
   },
   "source": [
    "Please refer to notebook [6.0](../explore/6.0_bonus.ipynb) for the proposed solution.\n",
    "<img src='figures/6.0_bonus-0.png'/>"
   ]
  }
 ],
 "metadata": {
  "kernelspec": {
   "display_name": "Python 2",
   "language": "python",
   "name": "python2"
  },
  "language_info": {
   "codemirror_mode": {
    "name": "ipython",
    "version": 2
   },
   "file_extension": ".py",
   "mimetype": "text/x-python",
   "name": "python",
   "nbconvert_exporter": "python",
   "pygments_lexer": "ipython2",
   "version": "2.7.10"
  }
 },
 "nbformat": 4,
 "nbformat_minor": 0
}

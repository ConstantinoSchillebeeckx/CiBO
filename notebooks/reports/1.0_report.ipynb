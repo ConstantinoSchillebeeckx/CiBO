{
 "cells": [
  {
   "cell_type": "code",
   "execution_count": 4,
   "metadata": {
    "collapsed": false
   },
   "outputs": [
    {
     "data": {
      "text/html": [
       "\n",
       "<style>\n",
       "code {\n",
       "    padding:2px 4px !important;\n",
       "    color: #c7254e !important;\n",
       "    font-size: 90%;\n",
       "    background-color: #f9f2f4 !important;\n",
       "    border-radius: 4px !important;\n",
       "    color: rgb(138, 109, 59);\n",
       "}\n",
       "mark {\n",
       "    color: rgb(138, 109, 59) !important;\n",
       "    font-weight: bold !important;\n",
       "}\n",
       ".container { width: 90% !important; }\n",
       "table { font-size:15px !important; }\n",
       "</style>\n"
      ],
      "text/plain": [
       "<IPython.core.display.HTML object>"
      ]
     },
     "execution_count": 4,
     "metadata": {},
     "output_type": "execute_result"
    }
   ],
   "source": [
    "from IPython.core.display import HTML\n",
    "HTML(\"\"\"\n",
    "<style>\n",
    "code {\n",
    "    padding:2px 4px !important;\n",
    "    color: #c7254e !important;\n",
    "    font-size: 90%;\n",
    "    background-color: #f9f2f4 !important;\n",
    "    border-radius: 4px !important;\n",
    "    color: rgb(138, 109, 59);\n",
    "}\n",
    "mark {\n",
    "    color: rgb(138, 109, 59) !important;\n",
    "    font-weight: bold !important;\n",
    "}\n",
    ".container { width: 90% !important; }\n",
    "table { font-size:15px !important; }\n",
    "</style>\n",
    "\"\"\")"
   ]
  },
  {
   "cell_type": "code",
   "execution_count": 5,
   "metadata": {
    "collapsed": true
   },
   "outputs": [],
   "source": [
    "import pandas as pd\n",
    "import seaborn as sns\n",
    "from matplotlib import pyplot as plt \n",
    "from IPython.display import Image, display\n",
    "\n",
    "%matplotlib inline  "
   ]
  },
  {
   "cell_type": "markdown",
   "metadata": {},
   "source": [
    "# Introduction\n",
    "\n",
    "This notebook serves as the master report document which will present the analysis results for the CiBO data science exercise. The exercise is structured around a beer review data set available [online](https://urldefense.proofpoint.com/v2/url?u=https-3A__s3.amazonaws.com_demo-2Ddatasets_beer-5Freviews.tar.gz&d=DwMFaQ&c=imBPVzF25OnBgGmVOlcsiEgHoG1i6YHLR0Sj_gZ4adc&r=8bgQeuykrF3aSX4ERnAE37e9TNni25ddf39sbnkKHrQ&m=hkI6yrD7SBn4Z9WO9Zt31KmSuYIswplFpvMihrHqFd4&s=PStqu-SKl1ZEMNBu4MLVtzHvrTddC9h1mM3NqDgmYmI&e=) for which the following must be explored:\n",
    "> 1. Which brewery produces the strongest beers by ABV%?\n",
    "> 2. If you had to pick 3 beers to recommend using only this data, which would you pick?\n",
    "> 3. Which of the factors (aroma, taste, appearance, palette) are most important in determining the overall quality of a beer?\n",
    "> 4. Lastly, if I enjoy a beer's aroma and appearance, which beer style should I try?"
   ]
  },
  {
   "cell_type": "markdown",
   "metadata": {},
   "source": [
    "## Initial data exploration\n",
    "\n",
    "The starting point of this analysis is to get a sense of what the data looks like and how it's organized, notebook [1.0](../explore/1.0_initial_look.ipynb) covers this initial investigation. The input data has the following caveats:\n",
    "- The dataset is composed of a series of beer reviews containing scores for numerous categories. Each data entry also has an associated brewery and beer style.\n",
    "- The following attribute fields have special characters (e.g. accents) in them: `brewery_name`, `beer_style`, `beer_name`.\n",
    "- Several attributes have missing values: `brewery_name`, `review_profilename` and `beer_abv`. We aren't too concerned about `brewery_name` since we have associated `brewery_id` with them. However, `review_profilename` will be needed if we want to compare across reviewers. A total of 17,043 beers have a missing values for `beer_abv`.\n",
    "- The distribution of beers reviews is not normal: the majority of beers have only a two reviews, however on average, each beer is reviewed about 24 times. <img src='figures/1.0_initial_look-0.svg'></img>\n",
    "- Similarly, each brewery is not represented with the same number of beers: the average number of beers reviewed for the 5840 breweries in the dataset is ~11 where as the median is 5. <img src='figures/1.0_initial_look-1.svg'></img>\n",
    "- Of the 66,055 beer represented, the most highly represented style is *American IPA* or *American Pale Ale (APA)*. <img src='figures/1.0_initial_look-2.svg'></img>\n",
    "- The distribution of alcohol by volume percentage (ABV%) is roughly normal with the presence of numerous outliers. <img src='figures/1.0_initial_look-4.svg'></img>"
   ]
  },
  {
   "cell_type": "markdown",
   "metadata": {},
   "source": [
    "## Q1: Which brewery produces the strongest beers by ABV%?"
   ]
  },
  {
   "cell_type": "markdown",
   "metadata": {},
   "source": [
    "### Introduction\n",
    "\n",
    "The notebook [2.0](../explore/2.0_brewery_highest_abv.ipynb) explore this questions. \n",
    "\n",
    "There are several issues with the ABV% data contained in the beer review data set:\n",
    "1. As mentioned previously, numerous beers (17,043) have missing values for ABV%; this represents about 25% of the total beers available in the dataset. It is unclear why this data is missing. One potential way around this would be to constuct a model that could predict ABV% based on the scored review features (e.g. `review_taste`) as well as the `beer_style`. This was not done as part of this analysis; instead, those beers without an ABV% were ignored.\n",
    "2. Some breweries have many more beers associated with them than others (as shown above in the intial data exploration), therefore it is unclear whether having only a single strong beer qualifies the brewery as having the \"strongest beers\". <mark>For this analysis, we will assume that a brewery must have at least 5 beers for it to qualify for this questions.</mark>\n",
    "3. The initial data exploration also mentions the inherent noise with the ABV% metric, especially in the high-ABV range; this will have to be taken into account when electing beers.\n",
    "4. Because several of the breweries do not have any associated names, we will identify breweries by the `brewery_id` attribute throughout the analysis."
   ]
  },
  {
   "cell_type": "markdown",
   "metadata": {},
   "source": [
    "### Dealing with noisy ABV%\n",
    "\n",
    "We being by naivly looking at which brewery has the highest ABV% beers without removing any noisy data in order to get a general sense of the data. To do that, we generate a *beer dataset* which contains only the meatdata associated with beer, this is done by grouping the starting dataset on `beer_beerid` and simply grabing the first entry of each group. From this *beer dataset* we group on `brewery_id`, aggregate with *max*, and sort the breweries by max ABV*; the plot below shows the top 15 breweries with the highest ABV% beer.\n",
    "\n",
    "<img src='figures/2.0_brewery_highest_abv-0.svg'/>\n",
    "\n",
    "Several interesting insights can be seen in this plot:\n",
    "- Noisy high-ABV beers help rank several breweries very well.\n",
    "- Brewery 6513 seems to be a general outlier when compared to the remaining breweries. In general it has very high ABV beers; it's median beer ABV is nearly higher than most all other beers represented. It is a possibility that this entiry brewery represents some sort of anomoly.\n",
    "\n",
    "In order to remove the noise, we will use the John Tukey method of detecting outliers: that is, any beer with an ABV% value that is more than Q3 + 1.5 * IQR  or less than Q1 + 1.5 * IQR is considered an outlier. Where IQR is the inner quartile range, Q1 is the first quartile, and Q3 is the third quartile.\n",
    "\n",
    "After removing outliers, we can replot the same top 15 breweries\n",
    "\n",
    "<img src='figures/2.0_brewery_highest_abv-1.svg'/>\n",
    "\n",
    "- We can see that the ABV% values for all of the breweries are much more concentrated\n",
    "- We can also see that several breweries with very few beers enter the list - a brewery with very few beers is perhaps not very representative of a brewery that is able to produce strong beers, we therefore choose to set a threshold of 5 beers needed in order for a brewery to be considered for this analysis. The disadvantage of this is that 5 is a relatively arbitrary cutoff. \n",
    "- Brewery 6513 did not contain any outliers, however it now looks to be even more anamolous when compared to the reamining breweries; <mark>we therefore elect to call brewery 6513 erroneous and we remove it from consideration</mark>\n",
    "\n",
    "With both noisy beers and brewery 6513 removed with arrive at the following ditribution of breweries:\n",
    "\n",
    "<img src='figures/2.0_brewery_highest_abv-3.svg'/>\n",
    "\n",
    "From the plot above, we can begin to see several candidates for highest beer ABV% brewery: 2097, 11031, 10796 and 13307:\n",
    "- 10796 has two beers with the absolute highest ABV%\n",
    "- 2097, 11031 and 13307 has a cluster of high ABV% beers"
   ]
  },
  {
   "cell_type": "markdown",
   "metadata": {},
   "source": [
    "### Choosing a brewery\n",
    "\n",
    "If one were to choose a brewery by the single most high-ABV% beer, the winner would be brewery 10796; however if one were to consider multiple high-ABV% beers together, a different brewery would be chosen. In the data presented above, the 95th percentile is 14.48, if one were to calculate the number of beers above this percentile we would see:"
   ]
  },
  {
   "cell_type": "code",
   "execution_count": 12,
   "metadata": {
    "collapsed": false
   },
   "outputs": [
    {
     "data": {
      "text/html": [
       "<div>\n",
       "<table border=\"1\" class=\"dataframe\">\n",
       "  <thead>\n",
       "    <tr>\n",
       "      <th></th>\n",
       "      <th colspan=\"3\" halign=\"left\">beer_abv</th>\n",
       "    </tr>\n",
       "    <tr>\n",
       "      <th></th>\n",
       "      <th>count</th>\n",
       "      <th>median</th>\n",
       "      <th>mean</th>\n",
       "    </tr>\n",
       "    <tr>\n",
       "      <th>brewery_id</th>\n",
       "      <th></th>\n",
       "      <th></th>\n",
       "      <th></th>\n",
       "    </tr>\n",
       "  </thead>\n",
       "  <tbody>\n",
       "    <tr>\n",
       "      <th>2097</th>\n",
       "      <td>9</td>\n",
       "      <td>15.0</td>\n",
       "      <td>15.388889</td>\n",
       "    </tr>\n",
       "    <tr>\n",
       "      <th>11031</th>\n",
       "      <td>8</td>\n",
       "      <td>16.3</td>\n",
       "      <td>16.150000</td>\n",
       "    </tr>\n",
       "    <tr>\n",
       "      <th>13307</th>\n",
       "      <td>7</td>\n",
       "      <td>15.0</td>\n",
       "      <td>15.131429</td>\n",
       "    </tr>\n",
       "    <tr>\n",
       "      <th>10796</th>\n",
       "      <td>3</td>\n",
       "      <td>18.0</td>\n",
       "      <td>16.833333</td>\n",
       "    </tr>\n",
       "    <tr>\n",
       "      <th>15732</th>\n",
       "      <td>3</td>\n",
       "      <td>15.0</td>\n",
       "      <td>15.166667</td>\n",
       "    </tr>\n",
       "  </tbody>\n",
       "</table>\n",
       "</div>"
      ],
      "text/plain": [
       "           beer_abv                  \n",
       "              count median       mean\n",
       "brewery_id                           \n",
       "2097              9   15.0  15.388889\n",
       "11031             8   16.3  16.150000\n",
       "13307             7   15.0  15.131429\n",
       "10796             3   18.0  16.833333\n",
       "15732             3   15.0  15.166667"
      ]
     },
     "execution_count": 12,
     "metadata": {},
     "output_type": "execute_result"
    }
   ],
   "source": [
    "cutoff = 14.48\n",
    "dat = pd.read_csv('../../data/interim/high_beer_ABV_breweries.csv')\n",
    "beer_counts = dat[dat.beer_abv > cutoff].groupby('brewery_id').agg(['count','median','mean'])[['beer_abv']]\n",
    "beer_counts.sort_values(('beer_abv','count'),ascending=False).head(5)"
   ]
  },
  {
   "cell_type": "markdown",
   "metadata": {},
   "source": [
    "The breweries 2097, 11031, and 13307 all have a high number of beers (9, 8, 7 respectively) that are in the 95th percentile of highest ABV% beers amongn only those breweries that produce high ABV% beers. Since these numbers are quite similar, we use the median/mean ABV% to decide which brewery tends to brew numerous high ABV% beers: **11031**."
   ]
  },
  {
   "cell_type": "markdown",
   "metadata": {},
   "source": [
    "### Summary\n",
    "\n",
    "We have determined that brewery **11031 (Brouwerij De Molen)** produces more of the strongest ABV% beers than any other brewery, this is contigent on the following assumptions:\n",
    "- brewery 6513 is an anomaly.\n",
    "- a brewery must product at least 5 beers to be considered.\n",
    "- a single very high ABV% beer does not automatically select the given brewery since precedence is given to those breweries that produce multiple strong beers (i.e. 1 very strong beer is not better than 10 slightly less strong beers)."
   ]
  },
  {
   "cell_type": "markdown",
   "metadata": {},
   "source": [
    "## If you had to pick 3 beers to recommend using only this data, which would you pick?"
   ]
  }
 ],
 "metadata": {
  "kernelspec": {
   "display_name": "Python 2",
   "language": "python",
   "name": "python2"
  },
  "language_info": {
   "codemirror_mode": {
    "name": "ipython",
    "version": 2
   },
   "file_extension": ".py",
   "mimetype": "text/x-python",
   "name": "python",
   "nbconvert_exporter": "python",
   "pygments_lexer": "ipython2",
   "version": "2.7.10"
  }
 },
 "nbformat": 4,
 "nbformat_minor": 0
}

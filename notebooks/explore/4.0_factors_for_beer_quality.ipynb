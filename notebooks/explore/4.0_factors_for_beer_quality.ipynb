{
 "cells": [
  {
   "cell_type": "code",
   "execution_count": 3,
   "metadata": {
    "collapsed": false
   },
   "outputs": [
    {
     "name": "stdout",
     "output_type": "stream",
     "text": [
      "The autoreload extension is already loaded. To reload it, use:\n",
      "  %reload_ext autoreload\n"
     ]
    }
   ],
   "source": [
    "import sys, math, os\n",
    "import pandas as pd\n",
    "import seaborn as sns\n",
    "from matplotlib import pyplot as plt    \n",
    "import numpy as np\n",
    "import statsmodels.formula.api as sm\n",
    "import scipy.stats\n",
    "from sklearn import linear_model\n",
    "from sklearn.metrics import r2_score\n",
    "from sklearn.ensemble import RandomForestRegressor\n",
    "from sklearn.model_selection import GridSearchCV\n",
    "\n",
    "sys.path.insert(0, '../../src/data/')\n",
    "import utils\n",
    "\n",
    "%matplotlib inline\n",
    "%load_ext autoreload  \n",
    "%autoreload 2  \n",
    "\n",
    "path_raw = \"../../data/raw/beer_reviews\""
   ]
  },
  {
   "cell_type": "markdown",
   "metadata": {},
   "source": [
    "Quick way of getting the notebook name, see [here](https://stackoverflow.com/a/23619544/1153897) for source; notebook name will be in python variable `notebook`."
   ]
  },
  {
   "cell_type": "code",
   "execution_count": 4,
   "metadata": {
    "collapsed": false
   },
   "outputs": [
    {
     "data": {
      "application/javascript": [
       "var kernel = IPython.notebook.kernel;\n",
       "var thename = window.document.getElementById(\"notebook_name\").innerHTML;\n",
       "var command = \"notebook = \" + \"'\"+thename+\"'\";\n",
       "kernel.execute(command);"
      ],
      "text/plain": [
       "<IPython.core.display.Javascript object>"
      ]
     },
     "metadata": {},
     "output_type": "display_data"
    }
   ],
   "source": [
    "%%javascript\n",
    "var kernel = IPython.notebook.kernel;\n",
    "var thename = window.document.getElementById(\"notebook_name\").innerHTML;\n",
    "var command = \"notebook = \" + \"'\"+thename+\"'\";\n",
    "kernel.execute(command);"
   ]
  },
  {
   "cell_type": "markdown",
   "metadata": {},
   "source": [
    "# Introduction\n",
    "\n",
    "The goal of this notebook is to try and answer the question\n",
    "> Which of the factors (aroma, taste, appearance, palette) are most important in determining the overall quality of a beer?\n",
    "\n",
    "Another way of wording the questions is:\n",
    "> Which of the beer score factors (aroma, taste, appearance, palette) explain the most variance in the attribute `review_overall`.\n",
    "\n",
    "**NOTE:** we learned several things in analysis [3.0_recommend_3_beers](3.0_recommend_3_beers.ipynb) that impact this analysis:\n",
    "- we can remove the reviews that had no associated `review_profilename`\n",
    "- there were numerous \"troll\" reviewers which should be removed from the dataset (trolls written to *../../data/interim/trolls.csv*)"
   ]
  },
  {
   "cell_type": "code",
   "execution_count": 5,
   "metadata": {
    "collapsed": false
   },
   "outputs": [],
   "source": [
    "# LOAD DATA\n",
    "# we assume the file we're after is a\n",
    "# single .csv in path_raw\n",
    "for file in os.listdir(path_raw):\n",
    "    file = os.path.join(path_raw, file)\n",
    "    if os.path.isfile(file) and '.csv' in file: \n",
    "        dat_raw = pd.read_csv(file, encoding='utf-8') # NOTE: force utf-8 encoding because some beer_styles have accents in them\n",
    "        \n",
    "# this file only available if analysis 3.0 is run\n",
    "trolls = pd.read_csv('../../data/interim/trolls.csv')\n",
    "\n",
    "# create new copy of data\n",
    "# 1. without reviews with missing profilename\n",
    "# 2. without trolls\n",
    "dat = dat_raw[(dat_raw.review_profilename.notnull()) & (~dat_raw.review_profilename.isin(trolls))].copy()"
   ]
  },
  {
   "cell_type": "markdown",
   "metadata": {},
   "source": [
    "<hr>"
   ]
  },
  {
   "cell_type": "code",
   "execution_count": 6,
   "metadata": {
    "collapsed": false
   },
   "outputs": [
    {
     "name": "stdout",
     "output_type": "stream",
     "text": [
      "factor: review_appearance, r^2: 0.25, p: 0.0000, std err: 0.0006\n",
      "factor: review_aroma, r^2: 0.38, p: 0.0000, std err: 0.0006\n",
      "factor: review_palate, r^2: 0.49, p: 0.0000, std err: 0.0005\n",
      "factor: review_taste, r^2: 0.62, p: 0.0000, std err: 0.0005\n"
     ]
    }
   ],
   "source": [
    "factors = ['review_aroma','review_appearance','review_palate','review_taste']\n",
    "all_scores_factors = factors + ['review_overall']\n",
    "melt = pd.melt(dat, id_vars=['beer_beerid',\n",
    "                      'review_overall'], value_vars=factors, var_name='factor', value_name='score')\n",
    "\n",
    "\n",
    "for factor,df in melt.groupby('factor'):\n",
    "    x = df.review_overall.tolist()\n",
    "    y = df.score.tolist()\n",
    "    \n",
    "    slope, intercept, r_value, p_value, std_err = scipy.stats.linregress(x, y)\n",
    "    print 'factor: %s, r^2: %.2f, p: %.4f, std err: %.4f' %(factor, r_value**2, p_value, std_err)"
   ]
  },
  {
   "cell_type": "markdown",
   "metadata": {},
   "source": [
    "The factor `review_taste` is most highly correlated with `review_overall` having an r^2 of 0.62."
   ]
  },
  {
   "cell_type": "code",
   "execution_count": 7,
   "metadata": {
    "collapsed": false
   },
   "outputs": [
    {
     "name": "stdout",
     "output_type": "stream",
     "text": [
      "                            OLS Regression Results                            \n",
      "==============================================================================\n",
      "Dep. Variable:         review_overall   R-squared:                       0.658\n",
      "Model:                            OLS   Adj. R-squared:                  0.658\n",
      "Method:                 Least Squares   F-statistic:                 7.633e+05\n",
      "Date:                Mon, 19 Jun 2017   Prob (F-statistic):               0.00\n",
      "Time:                        19:35:09   Log-Likelihood:            -8.7980e+05\n",
      "No. Observations:             1586266   AIC:                         1.760e+06\n",
      "Df Residuals:                 1586261   BIC:                         1.760e+06\n",
      "Df Model:                           4                                         \n",
      "Covariance Type:            nonrobust                                         \n",
      "=====================================================================================\n",
      "                        coef    std err          t      P>|t|      [95.0% Conf. Int.]\n",
      "-------------------------------------------------------------------------------------\n",
      "Intercept             0.4395      0.002    190.893      0.000         0.435     0.444\n",
      "review_aroma          0.0478      0.001     66.051      0.000         0.046     0.049\n",
      "review_appearance     0.0359      0.001     51.274      0.000         0.035     0.037\n",
      "review_palate         0.2585      0.001    340.117      0.000         0.257     0.260\n",
      "review_taste          0.5515      0.001    709.680      0.000         0.550     0.553\n",
      "==============================================================================\n",
      "Omnibus:                    80791.761   Durbin-Watson:                   1.794\n",
      "Prob(Omnibus):                  0.000   Jarque-Bera (JB):           306888.697\n",
      "Skew:                          -0.074   Prob(JB):                         0.00\n",
      "Kurtosis:                       5.150   Cond. No.                         53.7\n",
      "==============================================================================\n",
      "\n",
      "Warnings:\n",
      "[1] Standard Errors assume that the covariance matrix of the errors is correctly specified.\n"
     ]
    }
   ],
   "source": [
    "y = 'review_overall'\n",
    "x = \"+\".join(factors)\n",
    "formula = '%s ~ %s' % (y, x)\n",
    "reg_results = sm.ols(formula, data=dat[factors+[y]]).fit().summary()\n",
    "print(reg_results)"
   ]
  },
  {
   "cell_type": "markdown",
   "metadata": {},
   "source": [
    "The multivariate model including all the beer factor scores has an r^2 value of 0.658, a value which isn't much higher than the model based on just using the `review_taste` as the only explanatory variable. This tells us that the 'review_taste' factor is the most important factor in predicting `review_overall`."
   ]
  },
  {
   "cell_type": "markdown",
   "metadata": {},
   "source": [
    "Let's try and train some different models to see if any other factors serve as good predictors."
   ]
  },
  {
   "cell_type": "code",
   "execution_count": 8,
   "metadata": {
    "collapsed": false
   },
   "outputs": [
    {
     "name": "stderr",
     "output_type": "stream",
     "text": [
      "/Library/Python/2.7/site-packages/sklearn/cross_validation.py:44: DeprecationWarning: This module was deprecated in version 0.18 in favor of the model_selection module into which all the refactored classes and functions are moved. Also note that the interface of the new CV iterators are different from that of this module. This module will be removed in 0.20.\n",
      "  \"This module will be removed in 0.20.\", DeprecationWarning)\n"
     ]
    }
   ],
   "source": [
    "# split our data into three sets\n",
    "# training (60%)\n",
    "# cv (20%)\n",
    "# test (20%)\n",
    "random = 42\n",
    "dat_train, dat_cv, dat_test = utils.split_data(dat[all_scores_factors], random=random)\n"
   ]
  },
  {
   "cell_type": "code",
   "execution_count": 11,
   "metadata": {
    "collapsed": false
   },
   "outputs": [
    {
     "name": "stdout",
     "output_type": "stream",
     "text": [
      "r^2 on test: 0.657\n"
     ]
    }
   ],
   "source": [
    "mdl = linear_model.LinearRegression(n_jobs=-1)\n",
    "mdl.fit(dat_train[factors], dat_train['review_overall'])\n",
    "\n",
    "print 'r^2 on test: %0.3f' %mdl.score(dat_test[factors], dat_test['review_overall'])"
   ]
  },
  {
   "cell_type": "markdown",
   "metadata": {},
   "source": [
    "Values agree well with previous findings"
   ]
  },
  {
   "cell_type": "code",
   "execution_count": 13,
   "metadata": {
    "collapsed": false
   },
   "outputs": [
    {
     "data": {
      "text/plain": [
       "{'n_estimators': 100}"
      ]
     },
     "execution_count": 13,
     "metadata": {},
     "output_type": "execute_result"
    }
   ],
   "source": [
    "param = {'n_estimators':[10,100]}\n",
    "mdl = RandomForestRegressor(n_jobs=-1, random_state=42)\n",
    "\n",
    "clf = GridSearchCV(mdl, param)\n",
    "clf.fit(dat_train[factors], dat_train['review_overall'])\n",
    "clf.best_params_\n",
    "# print 'r^2 on test: %0.3f' %mdl.score(dat_test[factors], dat_test['review_overall'])\n",
    "# mdl.feature_importances_"
   ]
  }
 ],
 "metadata": {
  "kernelspec": {
   "display_name": "Python 2",
   "language": "python",
   "name": "python2"
  },
  "language_info": {
   "codemirror_mode": {
    "name": "ipython",
    "version": 2
   },
   "file_extension": ".py",
   "mimetype": "text/x-python",
   "name": "python",
   "nbconvert_exporter": "python",
   "pygments_lexer": "ipython2",
   "version": "2.7.10"
  }
 },
 "nbformat": 4,
 "nbformat_minor": 0
}

{
 "cells": [
  {
   "cell_type": "code",
   "execution_count": 17,
   "metadata": {
    "collapsed": false
   },
   "outputs": [
    {
     "data": {
      "text/html": [
       "\n",
       "<style>\n",
       "code {\n",
       "    padding:2px 4px !important;\n",
       "    color: #c7254e !important;\n",
       "    font-size: 90%;\n",
       "    background-color: #f9f2f4 !important;\n",
       "    border-radius: 4px !important;\n",
       "    color: rgb(138, 109, 59);\n",
       "    font-weight: bold;\n",
       "}\n",
       "mark {\n",
       "    color: rgb(138, 109, 59) !important;\n",
       "    font-weight: bold !important;\n",
       "}\n",
       ".container { width: 90% !important; }\n",
       "table { font-size:15px !important; }\n",
       "</style>\n"
      ],
      "text/plain": [
       "<IPython.core.display.HTML object>"
      ]
     },
     "execution_count": 17,
     "metadata": {},
     "output_type": "execute_result"
    }
   ],
   "source": [
    "from IPython.core.display import HTML\n",
    "HTML(\"\"\"\n",
    "<style>\n",
    "code {\n",
    "    padding:2px 4px !important;\n",
    "    color: #c7254e !important;\n",
    "    font-size: 90%;\n",
    "    background-color: #f9f2f4 !important;\n",
    "    border-radius: 4px !important;\n",
    "    color: rgb(138, 109, 59);\n",
    "    font-weight: bold;\n",
    "}\n",
    "mark {\n",
    "    color: rgb(138, 109, 59) !important;\n",
    "    font-weight: bold !important;\n",
    "}\n",
    ".container { width: 90% !important; }\n",
    "table { font-size:15px !important; }\n",
    "</style>\n",
    "\"\"\")"
   ]
  },
  {
   "cell_type": "code",
   "execution_count": 18,
   "metadata": {
    "collapsed": false,
    "deletable": true,
    "editable": true
   },
   "outputs": [
    {
     "name": "stdout",
     "output_type": "stream",
     "text": [
      "The autoreload extension is already loaded. To reload it, use:\n",
      "  %reload_ext autoreload\n"
     ]
    }
   ],
   "source": [
    "import sys, math, os\n",
    "import pandas as pd\n",
    "import seaborn as sns\n",
    "from matplotlib import pyplot as plt    \n",
    "import numpy as np\n",
    "import statsmodels.formula.api as sm\n",
    "import scipy.stats\n",
    "from sklearn import linear_model\n",
    "from sklearn.metrics import r2_score\n",
    "from sklearn.ensemble import RandomForestRegressor\n",
    "from sklearn.model_selection import GridSearchCV\n",
    "import operator\n",
    "\n",
    "sys.path.insert(0, '../../src/data/')\n",
    "import utils\n",
    "\n",
    "savefig = False\n",
    "\n",
    "\n",
    "%matplotlib inline\n",
    "%load_ext autoreload  \n",
    "%autoreload 2  \n",
    "\n",
    "path_raw = \"../../data/raw/beer_reviews\"\n",
    "trolls_file = '../../data/interim/trolls.csv'\n",
    "\n",
    "assert os.path.isfile(os.path.join(path_raw, 'beer_reviews.csv')), \"This data file doesn't exist yet, please run through 'make data'\"\n",
    "assert os.path.isfile(trolls_file), \"The trolls file doesn't exist yet, please run through analysis 3.0 first!\""
   ]
  },
  {
   "cell_type": "markdown",
   "metadata": {
    "deletable": true,
    "editable": true
   },
   "source": [
    "# Introduction\n",
    "\n",
    "The goal of this notebook is to try and answer the question\n",
    "> Which of the factors (aroma, taste, appearance, palette) are most important in determining the overall quality of a beer?\n",
    "\n",
    "Another way of wording the questions is:\n",
    "> Which of the beer score factors (aroma, taste, appearance, palette) explain the most variance in the attribute `review_overall`.\n",
    "\n",
    "**NOTE:** we learned several things in analysis [3.0_recommend_3_beers](3.0_recommend_3_beers.ipynb) that impact this analysis:\n",
    "- we can remove the reviews that had no associated `review_profilename`\n",
    "- there were numerous \"troll\" reviewers which should be removed from the dataset (trolls written to *../../data/interim/trolls.csv*)"
   ]
  },
  {
   "cell_type": "code",
   "execution_count": 19,
   "metadata": {
    "collapsed": false,
    "deletable": true,
    "editable": true
   },
   "outputs": [],
   "source": [
    "# LOAD DATA\n",
    "# we assume the file we're after is a\n",
    "# single .csv in path_raw\n",
    "for file in os.listdir(path_raw):\n",
    "    file = os.path.join(path_raw, file)\n",
    "    if os.path.isfile(file) and '.csv' in file: \n",
    "        dat_raw = pd.read_csv(file, encoding='utf-8') # NOTE: force utf-8 encoding because some beer_styles have accents in them\n",
    "        \n",
    "# this file only available if analysis 3.0 is run\n",
    "trolls = pd.read_csv(trolls_file)\n",
    "\n",
    "# create new copy of data\n",
    "# 1. without reviews with missing profilename\n",
    "# 2. without trolls\n",
    "dat = dat_raw[(dat_raw.review_profilename.notnull()) & (~dat_raw.review_profilename.isin(trolls))].copy()"
   ]
  },
  {
   "cell_type": "markdown",
   "metadata": {
    "deletable": true,
    "editable": true
   },
   "source": [
    "<hr>"
   ]
  },
  {
   "cell_type": "markdown",
   "metadata": {},
   "source": [
    "## Univariate linear regression"
   ]
  },
  {
   "cell_type": "code",
   "execution_count": 20,
   "metadata": {
    "collapsed": false,
    "deletable": true,
    "editable": true
   },
   "outputs": [
    {
     "data": {
      "text/html": [
       "<div>\n",
       "<table border=\"1\" class=\"dataframe\">\n",
       "  <thead>\n",
       "    <tr style=\"text-align: right;\">\n",
       "      <th></th>\n",
       "      <th>r^2</th>\n",
       "      <th>p</th>\n",
       "      <th>std err</th>\n",
       "    </tr>\n",
       "    <tr>\n",
       "      <th>factor</th>\n",
       "      <th></th>\n",
       "      <th></th>\n",
       "      <th></th>\n",
       "    </tr>\n",
       "  </thead>\n",
       "  <tbody>\n",
       "    <tr>\n",
       "      <th>review_appearance</th>\n",
       "      <td>0.251726</td>\n",
       "      <td>0</td>\n",
       "      <td>0.000587</td>\n",
       "    </tr>\n",
       "    <tr>\n",
       "      <th>review_aroma</th>\n",
       "      <td>0.379439</td>\n",
       "      <td>0</td>\n",
       "      <td>0.000605</td>\n",
       "    </tr>\n",
       "    <tr>\n",
       "      <th>review_palate</th>\n",
       "      <td>0.492664</td>\n",
       "      <td>0</td>\n",
       "      <td>0.000535</td>\n",
       "    </tr>\n",
       "    <tr>\n",
       "      <th>review_taste</th>\n",
       "      <td>0.623780</td>\n",
       "      <td>0</td>\n",
       "      <td>0.000495</td>\n",
       "    </tr>\n",
       "  </tbody>\n",
       "</table>\n",
       "</div>"
      ],
      "text/plain": [
       "                        r^2  p   std err\n",
       "factor                                  \n",
       "review_appearance  0.251726  0  0.000587\n",
       "review_aroma       0.379439  0  0.000605\n",
       "review_palate      0.492664  0  0.000535\n",
       "review_taste       0.623780  0  0.000495"
      ]
     },
     "execution_count": 20,
     "metadata": {},
     "output_type": "execute_result"
    }
   ],
   "source": [
    "factors = ['review_aroma','review_appearance','review_palate','review_taste']\n",
    "all_scores_factors = factors + ['review_overall']\n",
    "melt = pd.melt(dat, id_vars=['beer_beerid',\n",
    "                      'review_overall'], value_vars=factors, var_name='factor', value_name='score')\n",
    "\n",
    "dats = {}\n",
    "for factor,df in melt.groupby('factor'):\n",
    "    x = df.review_overall.tolist()\n",
    "    y = df.score.tolist()\n",
    "    \n",
    "    slope, intercept, r_value, p_value, std_err = scipy.stats.linregress(x, y)\n",
    "    dats[factor] = [r_value**2, p_value, std_err]\n",
    "#     print 'factor: %s, r^2: %.2f, p: %.4f, std err: %.4f' %(factor, r_value**2, p_value, std_err)\n",
    "\n",
    "lm = pd.DataFrame(dats, index=['r^2','p','std err']).transpose()\n",
    "lm.index.name = 'factor'\n",
    "lm.to_csv('../../data/interim/beer_factors_linear_regression.csv')\n",
    "lm"
   ]
  },
  {
   "cell_type": "markdown",
   "metadata": {
    "deletable": true,
    "editable": true
   },
   "source": [
    "The factor `review_taste` is most highly correlated with `review_overall` having an r^2 of 0.62."
   ]
  },
  {
   "cell_type": "markdown",
   "metadata": {},
   "source": [
    "## Multivariate linear regression"
   ]
  },
  {
   "cell_type": "code",
   "execution_count": 15,
   "metadata": {
    "collapsed": false,
    "deletable": true,
    "editable": true
   },
   "outputs": [
    {
     "name": "stdout",
     "output_type": "stream",
     "text": [
      "                            OLS Regression Results                            \n",
      "==============================================================================\n",
      "Dep. Variable:         review_overall   R-squared:                       0.664\n",
      "Model:                            OLS   Adj. R-squared:                  0.664\n",
      "Method:                 Least Squares   F-statistic:                 2.087e+05\n",
      "Date:                Tue, 20 Jun 2017   Prob (F-statistic):               0.00\n",
      "Time:                        21:32:52   Log-Likelihood:            -8.6659e+05\n",
      "No. Observations:             1586266   AIC:                         1.733e+06\n",
      "Df Residuals:                 1586250   BIC:                         1.733e+06\n",
      "Df Model:                          15                                         \n",
      "Covariance Type:            nonrobust                                         \n",
      "=============================================================================================================================\n",
      "                                                                coef    std err          t      P>|t|      [95.0% Conf. Int.]\n",
      "-----------------------------------------------------------------------------------------------------------------------------\n",
      "Intercept                                                     0.5373      0.041     13.086      0.000         0.457     0.618\n",
      "review_aroma                                                 -0.0797      0.020     -4.062      0.000        -0.118    -0.041\n",
      "review_appearance                                            -0.1243      0.014     -8.696      0.000        -0.152    -0.096\n",
      "review_aroma:review_appearance                               -0.0022      0.006     -0.387      0.699        -0.013     0.009\n",
      "review_palate                                                 0.2483      0.019     12.927      0.000         0.211     0.286\n",
      "review_aroma:review_palate                                    0.0687      0.007      9.774      0.000         0.055     0.082\n",
      "review_appearance:review_palate                              -0.0441      0.006     -7.810      0.000        -0.055    -0.033\n",
      "review_aroma:review_appearance:review_palate                  0.0161      0.002      8.612      0.000         0.012     0.020\n",
      "review_taste                                                  0.5646      0.022     25.605      0.000         0.521     0.608\n",
      "review_aroma:review_taste                                     0.0099      0.007      1.461      0.144        -0.003     0.023\n",
      "review_appearance:review_taste                                0.1050      0.006     16.240      0.000         0.092     0.118\n",
      "review_aroma:review_appearance:review_taste                  -0.0117      0.002     -6.396      0.000        -0.015    -0.008\n",
      "review_palate:review_taste                                    0.0365      0.007      5.491      0.000         0.023     0.049\n",
      "review_aroma:review_palate:review_taste                      -0.0239      0.002    -12.900      0.000        -0.028    -0.020\n",
      "review_appearance:review_palate:review_taste                 -0.0161      0.002     -8.951      0.000        -0.020    -0.013\n",
      "review_aroma:review_appearance:review_palate:review_taste     0.0022      0.000      4.643      0.000         0.001     0.003\n",
      "==============================================================================\n",
      "Omnibus:                    86434.813   Durbin-Watson:                   1.804\n",
      "Prob(Omnibus):                  0.000   Jarque-Bera (JB):           353400.563\n",
      "Skew:                          -0.052   Prob(JB):                         0.00\n",
      "Kurtosis:                       5.310   Cond. No.                     4.39e+04\n",
      "==============================================================================\n",
      "\n",
      "Warnings:\n",
      "[1] Standard Errors assume that the covariance matrix of the errors is correctly specified.\n",
      "[2] The condition number is large, 4.39e+04. This might indicate that there are\n",
      "strong multicollinearity or other numerical problems.\n"
     ]
    }
   ],
   "source": [
    "y = 'review_overall'\n",
    "x = \"*\".join(factors)\n",
    "formula = '%s ~ %s' % (y, x)\n",
    "reg_results = sm.ols(formula, data=dat[factors+[y]]).fit().summary()\n",
    "with open('../../data/interim/ols.txt', 'w') as fout:\n",
    "    fout.write(reg_results.as_text())\n",
    "print(reg_results)"
   ]
  },
  {
   "cell_type": "markdown",
   "metadata": {
    "deletable": true,
    "editable": true
   },
   "source": [
    "The multivariate model including all the beer factor scores has an r^2 value of 0.658, a value which isn't much higher than the model based on just using the `review_taste` as the only explanatory variable. This tells us that the 'review_taste' factor is the most important factor in predicting `review_overall`."
   ]
  },
  {
   "cell_type": "markdown",
   "metadata": {
    "deletable": true,
    "editable": true
   },
   "source": [
    "Let's try and train some different models to see if any other factors serve as good predictors."
   ]
  },
  {
   "cell_type": "code",
   "execution_count": 21,
   "metadata": {
    "collapsed": false,
    "deletable": true,
    "editable": true
   },
   "outputs": [
    {
     "name": "stdout",
     "output_type": "stream",
     "text": [
      "r^2 on test: 0.657\n"
     ]
    }
   ],
   "source": [
    "# split our data into three sets\n",
    "# training (60%)\n",
    "# cv (20%)\n",
    "# test (20%)\n",
    "random = 42\n",
    "dat_train, dat_cv, dat_test = utils.split_data(dat[all_scores_factors], random=random)\n",
    "\n",
    "mdl = linear_model.LinearRegression(n_jobs=-1)\n",
    "mdl.fit(dat_train[factors], dat_train['review_overall'])\n",
    "\n",
    "print 'r^2 on test: %0.3f' %mdl.score(dat_test[factors], dat_test['review_overall'])"
   ]
  },
  {
   "cell_type": "markdown",
   "metadata": {
    "deletable": true,
    "editable": true
   },
   "source": [
    "Values agree well with previous findings"
   ]
  },
  {
   "cell_type": "markdown",
   "metadata": {},
   "source": [
    "## Random Forest regression"
   ]
  },
  {
   "cell_type": "code",
   "execution_count": null,
   "metadata": {
    "collapsed": false,
    "deletable": true,
    "editable": true
   },
   "outputs": [],
   "source": [
    "# run a parameter grid search on the full dataset to find the optimized parameters\n",
    "# for a random forest regression model. we use the full dataset becaues the\n",
    "# GridSearchCV does a 3-fold cross-validation by default. Furthermore, we\n",
    "# are only interested in training a RF model and extracting the\n",
    "# feature importances out of it (instead of then predicting on a hold-out set)\n",
    "param = {'n_estimators':[100,500], 'max_features':['auto',1/3.0], 'max_depth':[None,10,50]}\n",
    "mdl = RandomForestRegressor(n_jobs=-1, random_state=random, oob_score=True)\n",
    "\n",
    "clf = GridSearchCV(mdl, param, n_jobs=-1)\n",
    "clf.fit(dat[factors], dat['review_overall'])\n",
    "clf.best_params_"
   ]
  },
  {
   "cell_type": "code",
   "execution_count": null,
   "metadata": {
    "collapsed": false,
    "deletable": true,
    "editable": true
   },
   "outputs": [],
   "source": [
    "mdl = RandomForestRegressor(n_jobs=-1, random_state=random, oob_score=True).set_params(**clf.best_params_)\n",
    "mdl.fit(dat[factors], dat['review_overall'])\n",
    "imp = {l :mdl.feature_importances_[i] for i,l in enumerate(factors)}\n",
    "sorted(imp.items(), key=operator.itemgetter(1), reverse=True)"
   ]
  },
  {
   "cell_type": "markdown",
   "metadata": {
    "deletable": true,
    "editable": true
   },
   "source": [
    "`review_taste` has the highest feature importance"
   ]
  }
 ],
 "metadata": {
  "kernelspec": {
   "display_name": "Python 2",
   "language": "python",
   "name": "python2"
  },
  "language_info": {
   "codemirror_mode": {
    "name": "ipython",
    "version": 2
   },
   "file_extension": ".py",
   "mimetype": "text/x-python",
   "name": "python",
   "nbconvert_exporter": "python",
   "pygments_lexer": "ipython2",
   "version": "2.7.10"
  }
 },
 "nbformat": 4,
 "nbformat_minor": 0
}

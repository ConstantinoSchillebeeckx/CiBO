{
 "cells": [
  {
   "cell_type": "code",
   "execution_count": 37,
   "metadata": {
    "collapsed": false,
    "deletable": true,
    "editable": true
   },
   "outputs": [
    {
     "name": "stdout",
     "output_type": "stream",
     "text": [
      "The autoreload extension is already loaded. To reload it, use:\n",
      "  %reload_ext autoreload\n"
     ]
    }
   ],
   "source": [
    "import sys, math, os\n",
    "import pandas as pd\n",
    "import seaborn as sns\n",
    "from matplotlib import pyplot as plt    \n",
    "import numpy as np\n",
    "import statsmodels.formula.api as sm\n",
    "import scipy.stats\n",
    "from sklearn import linear_model\n",
    "from sklearn.metrics import r2_score\n",
    "from sklearn.ensemble import RandomForestClassifier\n",
    "from sklearn.model_selection import GridSearchCV\n",
    "from sklearn.linear_model import LogisticRegression\n",
    "from sklearn.svm import SVC\n",
    "import operator\n",
    "\n",
    "sys.path.insert(0, '../../src/data/')\n",
    "import utils\n",
    "\n",
    "%matplotlib inline\n",
    "%load_ext autoreload  \n",
    "%autoreload 2  \n",
    "\n",
    "path_raw = \"../../data/raw/beer_reviews\"\n",
    "trolls_file = '../../data/interim/trolls.csv'\n",
    "random = 42\n",
    "\n",
    "savefig = False\n",
    "\n",
    "assert os.path.isfile(os.path.join(path_raw, 'beer_reviews.csv')), \"This data file doesn't exist yet, please run through 'make data'\"\n",
    "assert os.path.isfile(trolls_file), \"The trolls file doesn't exist yet, please run through analysis 3.0 first!\"\n",
    "\n",
    "# ignore sklearn depreciation warnings :(\n",
    "import warnings\n",
    "warnings.filterwarnings('ignore')"
   ]
  },
  {
   "cell_type": "markdown",
   "metadata": {
    "deletable": true,
    "editable": true
   },
   "source": [
    "Quick way of getting the notebook name, see [here](https://stackoverflow.com/a/23619544/1153897) for source; notebook name will be in python variable `notebook`."
   ]
  },
  {
   "cell_type": "code",
   "execution_count": 3,
   "metadata": {
    "collapsed": false,
    "deletable": true,
    "editable": true
   },
   "outputs": [
    {
     "data": {
      "application/javascript": [
       "var kernel = IPython.notebook.kernel;\n",
       "var thename = window.document.getElementById(\"notebook_name\").innerHTML;\n",
       "var command = \"notebook = \" + \"'\"+thename+\"'\";\n",
       "kernel.execute(command);"
      ],
      "text/plain": [
       "<IPython.core.display.Javascript object>"
      ]
     },
     "metadata": {},
     "output_type": "display_data"
    }
   ],
   "source": [
    "%%javascript\n",
    "var kernel = IPython.notebook.kernel;\n",
    "var thename = window.document.getElementById(\"notebook_name\").innerHTML;\n",
    "var command = \"notebook = \" + \"'\"+thename+\"'\";\n",
    "kernel.execute(command);"
   ]
  },
  {
   "cell_type": "markdown",
   "metadata": {
    "deletable": true,
    "editable": true
   },
   "source": [
    "# Introduction\n",
    "\n",
    "The goal of this notebook is to try and answer the question\n",
    "> If I enjoy a beer's aroma and appearance, which beer style should I try?\n",
    "\n",
    "In other words, which beer style in general have the highest scores in `review_aroma` and `review_appearance`?"
   ]
  },
  {
   "cell_type": "code",
   "execution_count": 4,
   "metadata": {
    "collapsed": false,
    "deletable": true,
    "editable": true
   },
   "outputs": [],
   "source": [
    "# LOAD DATA\n",
    "# we assume the file we're after is a\n",
    "# single .csv in path_raw\n",
    "for file in os.listdir(path_raw):\n",
    "    file = os.path.join(path_raw, file)\n",
    "    if os.path.isfile(file) and '.csv' in file: \n",
    "        dat_raw = pd.read_csv(file, encoding='utf-8') # NOTE: force utf-8 encoding because some beer_styles have accents in them\n",
    "        \n",
    "# this file only available if analysis 3.0 is run\n",
    "trolls = pd.read_csv(trolls_file)\n",
    "\n",
    "# create new copy of data\n",
    "# 1. without reviews with missing profilename\n",
    "# 2. without trolls\n",
    "dat = dat_raw[(dat_raw.review_profilename.notnull()) & (~dat_raw.review_profilename.isin(trolls))].copy()\n",
    "\n",
    "# generate new feature as the mean of review_aroma and review_appearance\n",
    "dat['combo_score'] = dat[['review_aroma', 'review_appearance']].mean(axis=1)"
   ]
  },
  {
   "cell_type": "markdown",
   "metadata": {
    "deletable": true,
    "editable": true
   },
   "source": [
    "<hr>"
   ]
  },
  {
   "cell_type": "code",
   "execution_count": 5,
   "metadata": {
    "collapsed": false,
    "deletable": true,
    "editable": true
   },
   "outputs": [
    {
     "data": {
      "text/html": [
       "<div>\n",
       "<table border=\"1\" class=\"dataframe\">\n",
       "  <thead>\n",
       "    <tr>\n",
       "      <th></th>\n",
       "      <th colspan=\"5\" halign=\"left\">review_aroma</th>\n",
       "      <th colspan=\"5\" halign=\"left\">review_appearance</th>\n",
       "      <th colspan=\"5\" halign=\"left\">combo_score</th>\n",
       "    </tr>\n",
       "    <tr>\n",
       "      <th></th>\n",
       "      <th>mean</th>\n",
       "      <th>median</th>\n",
       "      <th>std</th>\n",
       "      <th>count</th>\n",
       "      <th>max</th>\n",
       "      <th>mean</th>\n",
       "      <th>median</th>\n",
       "      <th>std</th>\n",
       "      <th>count</th>\n",
       "      <th>max</th>\n",
       "      <th>mean</th>\n",
       "      <th>median</th>\n",
       "      <th>std</th>\n",
       "      <th>count</th>\n",
       "      <th>max</th>\n",
       "    </tr>\n",
       "    <tr>\n",
       "      <th>beer_style</th>\n",
       "      <th></th>\n",
       "      <th></th>\n",
       "      <th></th>\n",
       "      <th></th>\n",
       "      <th></th>\n",
       "      <th></th>\n",
       "      <th></th>\n",
       "      <th></th>\n",
       "      <th></th>\n",
       "      <th></th>\n",
       "      <th></th>\n",
       "      <th></th>\n",
       "      <th></th>\n",
       "      <th></th>\n",
       "      <th></th>\n",
       "    </tr>\n",
       "  </thead>\n",
       "  <tbody>\n",
       "    <tr>\n",
       "      <th>American Double / Imperial Stout</th>\n",
       "      <td>4.160604</td>\n",
       "      <td>4.0</td>\n",
       "      <td>0.570494</td>\n",
       "      <td>50696</td>\n",
       "      <td>5.0</td>\n",
       "      <td>4.163563</td>\n",
       "      <td>4.0</td>\n",
       "      <td>0.515692</td>\n",
       "      <td>50696</td>\n",
       "      <td>5.0</td>\n",
       "      <td>4.162084</td>\n",
       "      <td>4.25</td>\n",
       "      <td>0.446933</td>\n",
       "      <td>50696</td>\n",
       "      <td>5.0</td>\n",
       "    </tr>\n",
       "    <tr>\n",
       "      <th>Russian Imperial Stout</th>\n",
       "      <td>4.076571</td>\n",
       "      <td>4.0</td>\n",
       "      <td>0.542298</td>\n",
       "      <td>54120</td>\n",
       "      <td>5.0</td>\n",
       "      <td>4.210070</td>\n",
       "      <td>4.0</td>\n",
       "      <td>0.508619</td>\n",
       "      <td>54120</td>\n",
       "      <td>5.0</td>\n",
       "      <td>4.143320</td>\n",
       "      <td>4.25</td>\n",
       "      <td>0.434802</td>\n",
       "      <td>54120</td>\n",
       "      <td>5.0</td>\n",
       "    </tr>\n",
       "    <tr>\n",
       "      <th>Quadrupel (Quad)</th>\n",
       "      <td>4.132493</td>\n",
       "      <td>4.0</td>\n",
       "      <td>0.544134</td>\n",
       "      <td>18084</td>\n",
       "      <td>5.0</td>\n",
       "      <td>4.117922</td>\n",
       "      <td>4.0</td>\n",
       "      <td>0.514125</td>\n",
       "      <td>18084</td>\n",
       "      <td>5.0</td>\n",
       "      <td>4.125207</td>\n",
       "      <td>4.25</td>\n",
       "      <td>0.448639</td>\n",
       "      <td>18084</td>\n",
       "      <td>5.0</td>\n",
       "    </tr>\n",
       "    <tr>\n",
       "      <th>American Double / Imperial IPA</th>\n",
       "      <td>4.097774</td>\n",
       "      <td>4.0</td>\n",
       "      <td>0.568202</td>\n",
       "      <td>85958</td>\n",
       "      <td>5.0</td>\n",
       "      <td>4.078882</td>\n",
       "      <td>4.0</td>\n",
       "      <td>0.469201</td>\n",
       "      <td>85958</td>\n",
       "      <td>5.0</td>\n",
       "      <td>4.088328</td>\n",
       "      <td>4.00</td>\n",
       "      <td>0.430182</td>\n",
       "      <td>85958</td>\n",
       "      <td>5.0</td>\n",
       "    </tr>\n",
       "    <tr>\n",
       "      <th>Gueuze</th>\n",
       "      <td>4.117696</td>\n",
       "      <td>4.0</td>\n",
       "      <td>0.560120</td>\n",
       "      <td>6007</td>\n",
       "      <td>5.0</td>\n",
       "      <td>4.034876</td>\n",
       "      <td>4.0</td>\n",
       "      <td>0.500074</td>\n",
       "      <td>6007</td>\n",
       "      <td>5.0</td>\n",
       "      <td>4.076286</td>\n",
       "      <td>4.25</td>\n",
       "      <td>0.450927</td>\n",
       "      <td>6007</td>\n",
       "      <td>5.0</td>\n",
       "    </tr>\n",
       "    <tr>\n",
       "      <th>American Wild Ale</th>\n",
       "      <td>4.126756</td>\n",
       "      <td>4.0</td>\n",
       "      <td>0.565143</td>\n",
       "      <td>17794</td>\n",
       "      <td>5.0</td>\n",
       "      <td>4.005451</td>\n",
       "      <td>4.0</td>\n",
       "      <td>0.501612</td>\n",
       "      <td>17794</td>\n",
       "      <td>5.0</td>\n",
       "      <td>4.066104</td>\n",
       "      <td>4.00</td>\n",
       "      <td>0.442322</td>\n",
       "      <td>17794</td>\n",
       "      <td>5.0</td>\n",
       "    </tr>\n",
       "    <tr>\n",
       "      <th>Eisbock</th>\n",
       "      <td>4.156778</td>\n",
       "      <td>4.0</td>\n",
       "      <td>0.528950</td>\n",
       "      <td>2663</td>\n",
       "      <td>5.0</td>\n",
       "      <td>3.964514</td>\n",
       "      <td>4.0</td>\n",
       "      <td>0.496758</td>\n",
       "      <td>2663</td>\n",
       "      <td>5.0</td>\n",
       "      <td>4.060646</td>\n",
       "      <td>4.00</td>\n",
       "      <td>0.412955</td>\n",
       "      <td>2663</td>\n",
       "      <td>5.0</td>\n",
       "    </tr>\n",
       "    <tr>\n",
       "      <th>American Barleywine</th>\n",
       "      <td>4.019348</td>\n",
       "      <td>4.0</td>\n",
       "      <td>0.524654</td>\n",
       "      <td>26721</td>\n",
       "      <td>5.0</td>\n",
       "      <td>4.036376</td>\n",
       "      <td>4.0</td>\n",
       "      <td>0.478667</td>\n",
       "      <td>26721</td>\n",
       "      <td>5.0</td>\n",
       "      <td>4.027862</td>\n",
       "      <td>4.00</td>\n",
       "      <td>0.408577</td>\n",
       "      <td>26721</td>\n",
       "      <td>5.0</td>\n",
       "    </tr>\n",
       "    <tr>\n",
       "      <th>Belgian IPA</th>\n",
       "      <td>3.979666</td>\n",
       "      <td>4.0</td>\n",
       "      <td>0.511232</td>\n",
       "      <td>12467</td>\n",
       "      <td>5.0</td>\n",
       "      <td>4.075199</td>\n",
       "      <td>4.0</td>\n",
       "      <td>0.481009</td>\n",
       "      <td>12467</td>\n",
       "      <td>5.0</td>\n",
       "      <td>4.027432</td>\n",
       "      <td>4.00</td>\n",
       "      <td>0.402156</td>\n",
       "      <td>12467</td>\n",
       "      <td>5.0</td>\n",
       "    </tr>\n",
       "    <tr>\n",
       "      <th>Weizenbock</th>\n",
       "      <td>4.044677</td>\n",
       "      <td>4.0</td>\n",
       "      <td>0.519257</td>\n",
       "      <td>9412</td>\n",
       "      <td>5.0</td>\n",
       "      <td>4.009297</td>\n",
       "      <td>4.0</td>\n",
       "      <td>0.510222</td>\n",
       "      <td>9412</td>\n",
       "      <td>5.0</td>\n",
       "      <td>4.026987</td>\n",
       "      <td>4.00</td>\n",
       "      <td>0.427077</td>\n",
       "      <td>9412</td>\n",
       "      <td>5.0</td>\n",
       "    </tr>\n",
       "  </tbody>\n",
       "</table>\n",
       "</div>"
      ],
      "text/plain": [
       "                                 review_aroma                               \\\n",
       "                                         mean median       std  count  max   \n",
       "beer_style                                                                   \n",
       "American Double / Imperial Stout     4.160604    4.0  0.570494  50696  5.0   \n",
       "Russian Imperial Stout               4.076571    4.0  0.542298  54120  5.0   \n",
       "Quadrupel (Quad)                     4.132493    4.0  0.544134  18084  5.0   \n",
       "American Double / Imperial IPA       4.097774    4.0  0.568202  85958  5.0   \n",
       "Gueuze                               4.117696    4.0  0.560120   6007  5.0   \n",
       "American Wild Ale                    4.126756    4.0  0.565143  17794  5.0   \n",
       "Eisbock                              4.156778    4.0  0.528950   2663  5.0   \n",
       "American Barleywine                  4.019348    4.0  0.524654  26721  5.0   \n",
       "Belgian IPA                          3.979666    4.0  0.511232  12467  5.0   \n",
       "Weizenbock                           4.044677    4.0  0.519257   9412  5.0   \n",
       "\n",
       "                                 review_appearance                          \\\n",
       "                                              mean median       std  count   \n",
       "beer_style                                                                   \n",
       "American Double / Imperial Stout          4.163563    4.0  0.515692  50696   \n",
       "Russian Imperial Stout                    4.210070    4.0  0.508619  54120   \n",
       "Quadrupel (Quad)                          4.117922    4.0  0.514125  18084   \n",
       "American Double / Imperial IPA            4.078882    4.0  0.469201  85958   \n",
       "Gueuze                                    4.034876    4.0  0.500074   6007   \n",
       "American Wild Ale                         4.005451    4.0  0.501612  17794   \n",
       "Eisbock                                   3.964514    4.0  0.496758   2663   \n",
       "American Barleywine                       4.036376    4.0  0.478667  26721   \n",
       "Belgian IPA                               4.075199    4.0  0.481009  12467   \n",
       "Weizenbock                                4.009297    4.0  0.510222   9412   \n",
       "\n",
       "                                      combo_score                               \n",
       "                                  max        mean median       std  count  max  \n",
       "beer_style                                                                      \n",
       "American Double / Imperial Stout  5.0    4.162084   4.25  0.446933  50696  5.0  \n",
       "Russian Imperial Stout            5.0    4.143320   4.25  0.434802  54120  5.0  \n",
       "Quadrupel (Quad)                  5.0    4.125207   4.25  0.448639  18084  5.0  \n",
       "American Double / Imperial IPA    5.0    4.088328   4.00  0.430182  85958  5.0  \n",
       "Gueuze                            5.0    4.076286   4.25  0.450927   6007  5.0  \n",
       "American Wild Ale                 5.0    4.066104   4.00  0.442322  17794  5.0  \n",
       "Eisbock                           5.0    4.060646   4.00  0.412955   2663  5.0  \n",
       "American Barleywine               5.0    4.027862   4.00  0.408577  26721  5.0  \n",
       "Belgian IPA                       5.0    4.027432   4.00  0.402156  12467  5.0  \n",
       "Weizenbock                        5.0    4.026987   4.00  0.427077   9412  5.0  "
      ]
     },
     "execution_count": 5,
     "metadata": {},
     "output_type": "execute_result"
    }
   ],
   "source": [
    "# for each beer style, get some descriptive stats for the interested factors\n",
    "factors = ['review_aroma', 'review_appearance']\n",
    "label = ['beer_style']\n",
    "factor_stats = dat[factors + ['combo_score'] + label].groupby('beer_style').agg(['mean','median','std','count','max'])\n",
    "\n",
    "\n",
    "# naivly sort by mean score and grab top10\n",
    "factor_stats.sort_values(('combo_score','mean'), ascending=False).head(10)"
   ]
  },
  {
   "cell_type": "markdown",
   "metadata": {
    "deletable": true,
    "editable": true
   },
   "source": [
    "The beers above show those that are both highly rated (on average) in aroma and appearance -> these numbers suggest *American Double / Imperial Stout* be the `beet_style` to recommend. It should be noted that *American Double / Imperial IPA* was reviewed more than any other beer, and thus we can be more confident in scores attributed to this beer."
   ]
  },
  {
   "cell_type": "code",
   "execution_count": 6,
   "metadata": {
    "collapsed": false,
    "deletable": true,
    "editable": true
   },
   "outputs": [],
   "source": [
    "ranks = dict()\n",
    "for cutoff in np.arange(4.0,5.1,0.1):\n",
    "    \n",
    "    # pull out only those reviews with a score of >= 'cutoff' for aroma and appearance\n",
    "    score5 = dat[(dat.review_aroma>=cutoff) & (dat.review_appearance>=cutoff)]\n",
    "    score5_group = score5.groupby('beer_style').count()[['brewery_id']]\n",
    "    score5_group.columns = ['count_perfect_reviews']\n",
    "\n",
    "    # get number of reviews for each beer_style\n",
    "    reviews = dat.groupby('beer_style').count()[['brewery_id']]\n",
    "    reviews.columns = ['count_reviews']\n",
    "\n",
    "    # get number of beers per style\n",
    "    num_beers = dat.groupby('beer_beerid').agg('first').groupby('beer_style').count()[['brewery_id']]\n",
    "    num_beers.columns = ['count_beers']\n",
    "\n",
    "    # merge\n",
    "    score5_group = score5_group.merge(reviews, left_index=True, right_index=True, how='inner')\n",
    "    score5_group = score5_group.merge(num_beers, left_index=True, right_index=True, how='inner')\n",
    "\n",
    "    # sort\n",
    "    score5_group = score5_group.sort_values('count_perfect_reviews', ascending=False).head(10)\n",
    "\n",
    "    # NOTE: rank 0 is highest\n",
    "    rank = {str(style):rank for rank,style in enumerate(score5_group.index.tolist())}\n",
    "    \n",
    "    ranks[cutoff] = rank"
   ]
  },
  {
   "cell_type": "code",
   "execution_count": 7,
   "metadata": {
    "collapsed": false,
    "deletable": true,
    "editable": true
   },
   "outputs": [
    {
     "data": {
      "image/png": "[encoded data removed]",
      "text/plain": [
       "<matplotlib.figure.Figure at 0x7f1c0735b710>"
      ]
     },
     "metadata": {},
     "output_type": "display_data"
    }
   ],
   "source": [
    "ratings = pd.DataFrame(ranks)\n",
    "\n",
    "plt.figure(figsize=(10,10))\n",
    "with sns.axes_style(\"white\"):\n",
    "    sns.heatmap(ratings, linewidths=.5, square=True, mask=ratings.isnull(), annot=True)\n",
    "    \n",
    "if savefig: utils.autosave_fig(notebook)"
   ]
  },
  {
   "cell_type": "markdown",
   "metadata": {
    "deletable": true,
    "editable": true
   },
   "source": [
    "The heatmap above shows how the highest rated `beer_style` rank (0 is highest rank) as the cutoff value for score is increated from 4 to 5. We can see that *American Double/Imperial IPA* and *American Double/Imperial Stout* consitently rank as the highest or second-highest rated `beer_style` all throughout the range of score cutoff, with *American Double/Imperial Stout* being the best at a cutoff of >= 4.6\n",
    "\n",
    "In general, the following beers show up highly ranked (top 5) across most cutoffs:\n",
    "- American Double/Imperial IPA\n",
    "- American Double/Imperial Stout\n",
    "- Russian Imperial Stout\n",
    "- American IPA\n",
    "- Belgian Strong Dark Ale"
   ]
  },
  {
   "cell_type": "markdown",
   "metadata": {
    "deletable": true,
    "editable": true
   },
   "source": [
    "<hr>\n",
    "Let's use some machine learning to generate a model and then feed it a prediction with high scores for `review_aroma` and `review_appearance` to see which beer it predicts."
   ]
  },
  {
   "cell_type": "code",
   "execution_count": 9,
   "metadata": {
    "collapsed": false,
    "deletable": true,
    "editable": true
   },
   "outputs": [],
   "source": [
    "param = {'n_estimators':[10,100], 'max_features':['auto',1/3.0], 'max_depth':[None,10,20]}\n",
    "mdl = RandomForestClassifier(n_jobs=-1, random_state=random, oob_score=True)\n",
    "\n",
    "# commented out because computationally intensive\n",
    "# clf = GridSearchCV(mdl, param, n_jobs=-1)\n",
    "# clf.fit(dat[factors], np.ravel(dat[label]))\n",
    "# print clf.best_params_, clf.best_score_"
   ]
  },
  {
   "cell_type": "code",
   "execution_count": 9,
   "metadata": {
    "collapsed": false,
    "deletable": true,
    "editable": true
   },
   "outputs": [
    {
     "data": {
      "text/plain": [
       "0.091043769345697773"
      ]
     },
     "execution_count": 9,
     "metadata": {},
     "output_type": "execute_result"
    }
   ],
   "source": [
    "dat_train, dat_test = utils.split_data(dat, [0.8,0.2])\n",
    "mdl = RandomForestClassifier(n_jobs=-1, random_state=random, n_estimators=100)\n",
    "mdl.fit(dat_train[factors], np.ravel(dat_train[label]))\n",
    "mdl.score(dat_test[factors], np.ravel(dat_test[label]))"
   ]
  },
  {
   "cell_type": "markdown",
   "metadata": {
    "deletable": true,
    "editable": true
   },
   "source": [
    "Using the full data set leads to low accuracy rates - let's try and subset to those beers we are already confident about (see list of beers above).\n",
    "\n",
    "<mark>The hyper-parameter fine-tuning wasn't exhaustively done; it's computationally intensive and will probably only gain use slight accuracy gains. So, I'm moving on with the best parameters found above.</mark>"
   ]
  },
  {
   "cell_type": "code",
   "execution_count": 38,
   "metadata": {
    "collapsed": false,
    "deletable": true,
    "editable": true
   },
   "outputs": [
    {
     "name": "stdout",
     "output_type": "stream",
     "text": [
      "Overall model accuracy:  0.329507565191\n",
      "Predict score [4.0, 4.0], model predicts: American IPA (0.33)\n",
      ">> Imperial IPA: 0.23\n",
      ">> Imperial Stout: 0.11\n",
      ">> American IPA: 0.33\n",
      ">> Belgian Strong Dark Ale: 0.11\n",
      ">> Russian Imperial Stout: 0.13\n",
      ">> Tripel: 0.08\n",
      "Predict score [4.1, 4.1], model predicts: American IPA (0.33)\n",
      ">> Imperial IPA: 0.23\n",
      ">> Imperial Stout: 0.11\n",
      ">> American IPA: 0.33\n",
      ">> Belgian Strong Dark Ale: 0.11\n",
      ">> Russian Imperial Stout: 0.13\n",
      ">> Tripel: 0.08\n",
      "Predict score [4.2, 4.2], model predicts: American IPA (0.33)\n",
      ">> Imperial IPA: 0.23\n",
      ">> Imperial Stout: 0.11\n",
      ">> American IPA: 0.33\n",
      ">> Belgian Strong Dark Ale: 0.11\n",
      ">> Russian Imperial Stout: 0.13\n",
      ">> Tripel: 0.08\n",
      "Predict score [4.3, 4.3], model predicts: American Double / Imperial IPA (0.25)\n",
      ">> Imperial IPA: 0.25\n",
      ">> Imperial Stout: 0.18\n",
      ">> American IPA: 0.23\n",
      ">> Belgian Strong Dark Ale: 0.09\n",
      ">> Russian Imperial Stout: 0.19\n",
      ">> Tripel: 0.06\n",
      "Predict score [4.4, 4.4], model predicts: American Double / Imperial IPA (0.25)\n",
      ">> Imperial IPA: 0.25\n",
      ">> Imperial Stout: 0.18\n",
      ">> American IPA: 0.23\n",
      ">> Belgian Strong Dark Ale: 0.09\n",
      ">> Russian Imperial Stout: 0.19\n",
      ">> Tripel: 0.06\n",
      "Predict score [4.5, 4.5], model predicts: American Double / Imperial IPA (0.25)\n",
      ">> Imperial IPA: 0.25\n",
      ">> Imperial Stout: 0.18\n",
      ">> American IPA: 0.23\n",
      ">> Belgian Strong Dark Ale: 0.09\n",
      ">> Russian Imperial Stout: 0.19\n",
      ">> Tripel: 0.06\n",
      "Predict score [4.6, 4.6], model predicts: American Double / Imperial IPA (0.25)\n",
      ">> Imperial IPA: 0.25\n",
      ">> Imperial Stout: 0.18\n",
      ">> American IPA: 0.23\n",
      ">> Belgian Strong Dark Ale: 0.09\n",
      ">> Russian Imperial Stout: 0.19\n",
      ">> Tripel: 0.06\n",
      "Predict score [4.7, 4.7], model predicts: American Double / Imperial IPA (0.25)\n",
      ">> Imperial IPA: 0.25\n",
      ">> Imperial Stout: 0.18\n",
      ">> American IPA: 0.23\n",
      ">> Belgian Strong Dark Ale: 0.09\n",
      ">> Russian Imperial Stout: 0.19\n",
      ">> Tripel: 0.06\n",
      "Predict score [4.8, 4.8], model predicts: American Double / Imperial Stout (0.26)\n",
      ">> Imperial IPA: 0.25\n",
      ">> Imperial Stout: 0.26\n",
      ">> American IPA: 0.16\n",
      ">> Belgian Strong Dark Ale: 0.07\n",
      ">> Russian Imperial Stout: 0.22\n",
      ">> Tripel: 0.05\n",
      "Predict score [4.9, 4.9], model predicts: American Double / Imperial Stout (0.26)\n",
      ">> Imperial IPA: 0.25\n",
      ">> Imperial Stout: 0.26\n",
      ">> American IPA: 0.16\n",
      ">> Belgian Strong Dark Ale: 0.07\n",
      ">> Russian Imperial Stout: 0.22\n",
      ">> Tripel: 0.05\n",
      "Predict score [5.0, 5.0], model predicts: American Double / Imperial Stout (0.26)\n",
      ">> Imperial IPA: 0.25\n",
      ">> Imperial Stout: 0.26\n",
      ">> American IPA: 0.16\n",
      ">> Belgian Strong Dark Ale: 0.07\n",
      ">> Russian Imperial Stout: 0.22\n",
      ">> Tripel: 0.05\n"
     ]
    }
   ],
   "source": [
    "top_beers = ['American Double / Imperial IPA',\n",
    "             'American Double / Imperial Stout',\n",
    "             'Russian Imperial Stout',\n",
    "             'American IPA',\n",
    "             'Belgian Strong Dark Ale','Tripel'] # note, add Tripel as an out-group - don't expect it to come up\n",
    "\n",
    "dat_train, dat_test = utils.split_data(dat[dat.beer_style.isin(top_beers)], [0.8,0.2])\n",
    "mdl = RandomForestClassifier(n_jobs=-1, random_state=random, n_estimators=100)\n",
    "mdl.fit(dat_train[factors], dat_train[label])\n",
    "print 'Overall model accuracy: ', mdl.score(dat_test[factors], np.ravel(dat_test[label]))\n",
    "\n",
    "# predict on hypothetical score requests\n",
    "for score in np.arange(4.0,5.1,0.1):\n",
    "    pred, prob = mdl.predict([score,score]), mdl.predict_proba([score,score])[0]\n",
    "    probs = '\\n>> '.join([str(l.split(' / ')[-1]) + ': ' + str(round(prob[i],2)) for i,l in enumerate(mdl.classes_)])\n",
    "    print 'Predict score [%s, %s], model predicts: %s (%.2f)\\n>> %s' %(score,score,list(pred)[0],max(prob),probs)"
   ]
  },
  {
   "cell_type": "markdown",
   "metadata": {
    "deletable": true,
    "editable": true
   },
   "source": [
    "The RF model tends to predict in the same way as the results we saw in the heatmap, except for the range of cutoffs up to 4.2 (RF predicts *America IPA*, whereas heatmap shows *Imperial Stout*). It should be noted however, that the probabilities aren't very high, for of the predictions (except, perhaps, for those predicting *American IPA*)"
   ]
  },
  {
   "cell_type": "code",
   "execution_count": 39,
   "metadata": {
    "collapsed": false,
    "deletable": true,
    "editable": true
   },
   "outputs": [
    {
     "name": "stdout",
     "output_type": "stream",
     "text": [
      "Overall model accuracy:  0.323025013616\n",
      "Predict score [4.0, 4.0], model predicts: American IPA (0.32)\n",
      ">> Imperial IPA: 0.23\n",
      ">> Imperial Stout: 0.13\n",
      ">> American IPA: 0.32\n",
      ">> Belgian Strong Dark Ale: 0.1\n",
      ">> Russian Imperial Stout: 0.14\n",
      ">> Tripel: 0.08\n",
      "Predict score [4.1, 4.1], model predicts: American IPA (0.30)\n",
      ">> Imperial IPA: 0.24\n",
      ">> Imperial Stout: 0.14\n",
      ">> American IPA: 0.3\n",
      ">> Belgian Strong Dark Ale: 0.1\n",
      ">> Russian Imperial Stout: 0.14\n",
      ">> Tripel: 0.08\n",
      "Predict score [4.2, 4.2], model predicts: American IPA (0.29)\n",
      ">> Imperial IPA: 0.24\n",
      ">> Imperial Stout: 0.15\n",
      ">> American IPA: 0.29\n",
      ">> Belgian Strong Dark Ale: 0.1\n",
      ">> Russian Imperial Stout: 0.15\n",
      ">> Tripel: 0.07\n",
      "Predict score [4.3, 4.3], model predicts: American IPA (0.27)\n",
      ">> Imperial IPA: 0.25\n",
      ">> Imperial Stout: 0.16\n",
      ">> American IPA: 0.27\n",
      ">> Belgian Strong Dark Ale: 0.1\n",
      ">> Russian Imperial Stout: 0.16\n",
      ">> Tripel: 0.07\n",
      "Predict score [4.4, 4.4], model predicts: American IPA (0.26)\n",
      ">> Imperial IPA: 0.25\n",
      ">> Imperial Stout: 0.17\n",
      ">> American IPA: 0.26\n",
      ">> Belgian Strong Dark Ale: 0.09\n",
      ">> Russian Imperial Stout: 0.17\n",
      ">> Tripel: 0.07\n",
      "Predict score [4.5, 4.5], model predicts: American Double / Imperial IPA (0.25)\n",
      ">> Imperial IPA: 0.25\n",
      ">> Imperial Stout: 0.17\n",
      ">> American IPA: 0.24\n",
      ">> Belgian Strong Dark Ale: 0.09\n",
      ">> Russian Imperial Stout: 0.18\n",
      ">> Tripel: 0.06\n",
      "Predict score [4.6, 4.6], model predicts: American Double / Imperial IPA (0.26)\n",
      ">> Imperial IPA: 0.26\n",
      ">> Imperial Stout: 0.18\n",
      ">> American IPA: 0.23\n",
      ">> Belgian Strong Dark Ale: 0.09\n",
      ">> Russian Imperial Stout: 0.19\n",
      ">> Tripel: 0.06\n",
      "Predict score [4.7, 4.7], model predicts: American Double / Imperial IPA (0.26)\n",
      ">> Imperial IPA: 0.26\n",
      ">> Imperial Stout: 0.19\n",
      ">> American IPA: 0.21\n",
      ">> Belgian Strong Dark Ale: 0.08\n",
      ">> Russian Imperial Stout: 0.2\n",
      ">> Tripel: 0.06\n",
      "Predict score [4.8, 4.8], model predicts: American Double / Imperial IPA (0.26)\n",
      ">> Imperial IPA: 0.26\n",
      ">> Imperial Stout: 0.2\n",
      ">> American IPA: 0.2\n",
      ">> Belgian Strong Dark Ale: 0.08\n",
      ">> Russian Imperial Stout: 0.21\n",
      ">> Tripel: 0.05\n",
      "Predict score [4.9, 4.9], model predicts: American Double / Imperial IPA (0.26)\n",
      ">> Imperial IPA: 0.26\n",
      ">> Imperial Stout: 0.21\n",
      ">> American IPA: 0.18\n",
      ">> Belgian Strong Dark Ale: 0.08\n",
      ">> Russian Imperial Stout: 0.22\n",
      ">> Tripel: 0.05\n",
      "Predict score [5.0, 5.0], model predicts: American Double / Imperial IPA (0.26)\n",
      ">> Imperial IPA: 0.26\n",
      ">> Imperial Stout: 0.22\n",
      ">> American IPA: 0.17\n",
      ">> Belgian Strong Dark Ale: 0.07\n",
      ">> Russian Imperial Stout: 0.22\n",
      ">> Tripel: 0.05\n"
     ]
    }
   ],
   "source": [
    "mdl = LogisticRegression(random_state=random, n_jobs=-1)\n",
    "mdl.fit(dat_train[factors], np.ravel(dat_train[label]))\n",
    "print 'Overall model accuracy: ', mdl.score(dat_test[factors], np.ravel(dat_test[label]))\n",
    "\n",
    "# predict on hypothetical score requests\n",
    "for score in np.arange(4.0,5.1,0.1):\n",
    "    pred, prob = mdl.predict([score,score]), mdl.predict_proba([score,score])[0]\n",
    "    probs = '\\n>> '.join([str(l.split(' / ')[-1]) + ': ' + str(round(prob[i],2)) for i,l in enumerate(mdl.classes_)])\n",
    "    print 'Predict score [%s, %s], model predicts: %s (%.2f)\\n>> %s' %(score,score,list(pred)[0],max(prob),probs)"
   ]
  },
  {
   "cell_type": "code",
   "execution_count": null,
   "metadata": {
    "collapsed": false
   },
   "outputs": [],
   "source": [
    "mdl = SVC(random_state=random, class_weight='balanced')\n",
    "mdl.fit(dat_train[factors], np.ravel(dat_train[label]))\n",
    "print 'Overall model accuracy: ', mdl.score(dat_test[factors], np.ravel(dat_test[label]))\n",
    "\n",
    "# predict on hypothetical score requests\n",
    "for score in np.arange(4.0,5.1,0.1):\n",
    "    pred, prob = mdl.predict([score,score]), mdl.predict_proba([score,score])[0]\n",
    "    probs = '\\n>> '.join([str(l.split(' / ')[-1]) + ': ' + str(round(prob[i],2)) for i,l in enumerate(mdl.classes_)])\n",
    "    print 'Predict score [%s, %s], model predicts: %s (%.2f)\\n>> %s' %(score,score,list(pred)[0],max(prob),probs)"
   ]
  },
  {
   "cell_type": "code",
   "execution_count": null,
   "metadata": {
    "collapsed": false,
    "deletable": true,
    "editable": true
   },
   "outputs": [],
   "source": [
    "# need to look at distribution of scores for the beer i choose\n",
    "# dat[dat.beer_style=='American Double / Imperial IPA'].groupby('beer_beerid').agg(['count','mean','median','std'])[['review_aroma','review_appearance']]"
   ]
  }
 ],
 "metadata": {
  "kernelspec": {
   "display_name": "Python 2",
   "language": "python",
   "name": "python2"
  },
  "language_info": {
   "codemirror_mode": {
    "name": "ipython",
    "version": 2
   },
   "file_extension": ".py",
   "mimetype": "text/x-python",
   "name": "python",
   "nbconvert_exporter": "python",
   "pygments_lexer": "ipython2",
   "version": "2.7.6"
  }
 },
 "nbformat": 4,
 "nbformat_minor": 0
}

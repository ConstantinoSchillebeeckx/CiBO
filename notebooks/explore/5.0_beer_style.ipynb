{
 "cells": [
  {
   "cell_type": "code",
   "execution_count": 25,
   "metadata": {
    "collapsed": false
   },
   "outputs": [
    {
     "name": "stdout",
     "output_type": "stream",
     "text": [
      "The autoreload extension is already loaded. To reload it, use:\n",
      "  %reload_ext autoreload\n"
     ]
    }
   ],
   "source": [
    "import sys, math, os\n",
    "import pandas as pd\n",
    "import seaborn as sns\n",
    "from matplotlib import pyplot as plt    \n",
    "import numpy as np\n",
    "import statsmodels.formula.api as sm\n",
    "import scipy.stats\n",
    "from sklearn import linear_model\n",
    "from sklearn.metrics import r2_score\n",
    "from sklearn.ensemble import RandomForestClassifier\n",
    "from sklearn.model_selection import GridSearchCV\n",
    "import operator\n",
    "\n",
    "sys.path.insert(0, '../../src/data/')\n",
    "import utils\n",
    "\n",
    "%matplotlib inline\n",
    "%load_ext autoreload  \n",
    "%autoreload 2  \n",
    "\n",
    "path_raw = \"../../data/raw/beer_reviews\"\n",
    "random = 42"
   ]
  },
  {
   "cell_type": "markdown",
   "metadata": {},
   "source": [
    "Quick way of getting the notebook name, see [here](https://stackoverflow.com/a/23619544/1153897) for source; notebook name will be in python variable `notebook`."
   ]
  },
  {
   "cell_type": "code",
   "execution_count": 2,
   "metadata": {
    "collapsed": false
   },
   "outputs": [
    {
     "data": {
      "application/javascript": [
       "var kernel = IPython.notebook.kernel;\n",
       "var thename = window.document.getElementById(\"notebook_name\").innerHTML;\n",
       "var command = \"notebook = \" + \"'\"+thename+\"'\";\n",
       "kernel.execute(command);"
      ],
      "text/plain": [
       "<IPython.core.display.Javascript object>"
      ]
     },
     "metadata": {},
     "output_type": "display_data"
    }
   ],
   "source": [
    "%%javascript\n",
    "var kernel = IPython.notebook.kernel;\n",
    "var thename = window.document.getElementById(\"notebook_name\").innerHTML;\n",
    "var command = \"notebook = \" + \"'\"+thename+\"'\";\n",
    "kernel.execute(command);"
   ]
  },
  {
   "cell_type": "markdown",
   "metadata": {},
   "source": [
    "# Introduction\n",
    "\n",
    "The goal of this notebook is to try and answer the question\n",
    "> If I enjoy a beer's aroma and appearance, which beer style should I try?\n"
   ]
  },
  {
   "cell_type": "code",
   "execution_count": 3,
   "metadata": {
    "collapsed": false
   },
   "outputs": [],
   "source": [
    "# LOAD DATA\n",
    "# we assume the file we're after is a\n",
    "# single .csv in path_raw\n",
    "for file in os.listdir(path_raw):\n",
    "    file = os.path.join(path_raw, file)\n",
    "    if os.path.isfile(file) and '.csv' in file: \n",
    "        dat_raw = pd.read_csv(file, encoding='utf-8') # NOTE: force utf-8 encoding because some beer_styles have accents in them\n",
    "        \n",
    "# this file only available if analysis 3.0 is run\n",
    "assert os.path.isfile('../../data/interim/trolls.csv'), \"The trolls file doesn't exist yet, please run through analysis 3.0 first!\"\n",
    "trolls = pd.read_csv('../../data/interim/trolls.csv')\n",
    "\n",
    "# create new copy of data\n",
    "# 1. without reviews with missing profilename\n",
    "# 2. without trolls\n",
    "dat = dat_raw[(dat_raw.review_profilename.notnull()) & (~dat_raw.review_profilename.isin(trolls))].copy()"
   ]
  },
  {
   "cell_type": "markdown",
   "metadata": {},
   "source": [
    "<hr>"
   ]
  },
  {
   "cell_type": "code",
   "execution_count": 28,
   "metadata": {
    "collapsed": false
   },
   "outputs": [
    {
     "name": "stdout",
     "output_type": "stream",
     "text": [
      "Overlap between top10 lists for both aroma and appearance: \n",
      "- American Double / Imperial Stout\n",
      "- Quadrupel (Quad)\n",
      "- American Double / Imperial IPA\n",
      "- Russian Imperial Stout\n"
     ]
    }
   ],
   "source": [
    "# for each beer style, get some descriptive stats for the interested factors\n",
    "factors = ['review_aroma', 'review_appearance']\n",
    "label = ['beer_style']\n",
    "factor_stats = dat[factors + label].groupby('beer_style').agg(['mean','median','std','count'])\n",
    "\n",
    "# naivly sort by mean score and grab top10\n",
    "top10_by_aroma = factor_stats.sort_values(('review_aroma','mean'), ascending=False).head(10)\n",
    "top10_by_appearance = factor_stats.sort_values(('review_appearance','mean'), ascending=False).head(10)\n",
    "\n",
    "# show just overlap\n",
    "print 'Overlap between top10 lists for both aroma and appearance: \\n- %s' %'\\n- '.join(list(top10_by_appearance.index \n",
    "                                                                                    & top10_by_aroma.index))"
   ]
  },
  {
   "cell_type": "code",
   "execution_count": null,
   "metadata": {
    "collapsed": false
   },
   "outputs": [],
   "source": [
    "param = {'n_estimators':[10], 'max_features':['auto',1/3.0], 'max_depth':[None, 10]}\n",
    "mdl = RandomForestClassifier(n_jobs=-1, random_state=random, oob_score=True)\n",
    "\n",
    "clf = GridSearchCV(mdl, param, n_jobs=-1)\n",
    "clf.fit(dat[factors], np.ravel(dat[label]))\n",
    "print clf.best_params_, clf.best_score_"
   ]
  }
 ],
 "metadata": {
  "kernelspec": {
   "display_name": "Python 2",
   "language": "python",
   "name": "python2"
  },
  "language_info": {
   "codemirror_mode": {
    "name": "ipython",
    "version": 2
   },
   "file_extension": ".py",
   "mimetype": "text/x-python",
   "name": "python",
   "nbconvert_exporter": "python",
   "pygments_lexer": "ipython2",
   "version": "2.7.10"
  }
 },
 "nbformat": 4,
 "nbformat_minor": 0
}

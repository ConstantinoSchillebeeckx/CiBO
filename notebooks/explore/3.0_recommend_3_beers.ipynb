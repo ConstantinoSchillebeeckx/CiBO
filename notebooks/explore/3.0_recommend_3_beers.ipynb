{
 "cells": [
  {
   "cell_type": "code",
   "execution_count": 1,
   "metadata": {
    "collapsed": false,
    "deletable": true,
    "editable": true
   },
   "outputs": [],
   "source": [
    "import sys, math, os\n",
    "import pandas as pd\n",
    "import seaborn as sns\n",
    "from matplotlib import pyplot as plt    \n",
    "import numpy as np\n",
    "from collections import defaultdict\n",
    "from collections import Counter\n",
    "import itertools\n",
    "\n",
    "sys.path.insert(0, '../../src/data/')\n",
    "import utils\n",
    "\n",
    "%matplotlib inline\n",
    "%load_ext autoreload  \n",
    "%autoreload 2  \n",
    "\n",
    "path_raw = \"../../data/raw/beer_reviews\""
   ]
  },
  {
   "cell_type": "markdown",
   "metadata": {
    "deletable": true,
    "editable": true
   },
   "source": [
    "Quick way of getting the notebook name, see [here](https://stackoverflow.com/a/23619544/1153897) for source; notebook name will be in python variable `notebook`."
   ]
  },
  {
   "cell_type": "code",
   "execution_count": 2,
   "metadata": {
    "collapsed": false,
    "deletable": true,
    "editable": true
   },
   "outputs": [
    {
     "data": {
      "application/javascript": [
       "var kernel = IPython.notebook.kernel;\n",
       "var thename = window.document.getElementById(\"notebook_name\").innerHTML;\n",
       "var command = \"notebook = \" + \"'\"+thename+\"'\";\n",
       "kernel.execute(command);"
      ],
      "text/plain": [
       "<IPython.core.display.Javascript object>"
      ]
     },
     "metadata": {},
     "output_type": "display_data"
    }
   ],
   "source": [
    "%%javascript\n",
    "var kernel = IPython.notebook.kernel;\n",
    "var thename = window.document.getElementById(\"notebook_name\").innerHTML;\n",
    "var command = \"notebook = \" + \"'\"+thename+\"'\";\n",
    "kernel.execute(command);"
   ]
  },
  {
   "cell_type": "markdown",
   "metadata": {
    "deletable": true,
    "editable": true
   },
   "source": [
    "# Introduction\n",
    "\n",
    "The goal of this notebook is to try and answer the question\n",
    "> If you had to pick 3 beers to recommend using only this data, which would you pick?"
   ]
  },
  {
   "cell_type": "markdown",
   "metadata": {
    "deletable": true,
    "editable": true
   },
   "source": [
    "# Initial thoughts\n",
    "\n",
    "This question is quite open ended, best beer might be interpreted in the following ways:\n",
    "- best overall beers in entire dataset\n",
    "- best beers per `beer_type`\n",
    "- best can be rated by any or a combination of the beer attributes: `review_overall`, `review_aroma`, `review_appearance`, `review_tast`, `review_palate`, `beer_abv`\n",
    "\n",
    "**NOTE**: analysis [1.0_initial_look](1.0_initial_look.ipynb) identified various attributes with missing data that may impact this analysis:\n",
    "- `beer_abv` not available for all beers\n",
    "- `review_profilename` not available for each review -> it's uncertain what happend with this data - consider excluding?"
   ]
  },
  {
   "cell_type": "code",
   "execution_count": 3,
   "metadata": {
    "collapsed": false,
    "deletable": true,
    "editable": true
   },
   "outputs": [],
   "source": [
    "# LOAD DATA\n",
    "# we assume the file we're after is a\n",
    "# single .csv in path_raw\n",
    "for file in os.listdir(path_raw):\n",
    "    file = os.path.join(path_raw, file)\n",
    "    if os.path.isfile(file) and '.csv' in file: \n",
    "        dat_raw = pd.read_csv(file, encoding='utf-8') # NOTE: force utf-8 encoding because some beer_styles have accents in them\n",
    "        \n",
    "dat_raw.head()\n",
    "\n",
    "# DF of beer metadata\n",
    "beer_meta_cols = ['brewery_id', 'brewery_name','beer_style', 'beer_name','beer_abv']\n",
    "beer_dat = dat_raw.groupby('beer_beerid').agg('first')[beer_meta_cols]"
   ]
  },
  {
   "cell_type": "markdown",
   "metadata": {
    "deletable": true,
    "editable": true
   },
   "source": [
    "<hr>"
   ]
  },
  {
   "cell_type": "code",
   "execution_count": 4,
   "metadata": {
    "collapsed": false,
    "deletable": true,
    "editable": true
   },
   "outputs": [
    {
     "name": "stdout",
     "output_type": "stream",
     "text": [
      "Num reviews without a profilename:  348\n",
      "Num reviews with a profilename:  1586266\n"
     ]
    }
   ],
   "source": [
    "print 'Num reviews without a profilename: ', dat_raw[dat_raw.review_profilename.isnull()].shape[0]\n",
    "print 'Num reviews with a profilename: ', dat_raw[dat_raw.review_profilename.notnull()].shape[0]"
   ]
  },
  {
   "cell_type": "markdown",
   "metadata": {
    "deletable": true,
    "editable": true
   },
   "source": [
    "<mark>Given that those reviews without a profilename represent a small fraction of the total reviews, we will exclude these reviews from the analysis.</mark>"
   ]
  },
  {
   "cell_type": "code",
   "execution_count": 5,
   "metadata": {
    "collapsed": true,
    "deletable": true,
    "editable": true
   },
   "outputs": [],
   "source": [
    "# create new copy of data without reviews with missing profilename\n",
    "dat = dat_raw[dat_raw.review_profilename.notnull()].copy()"
   ]
  },
  {
   "cell_type": "markdown",
   "metadata": {
    "deletable": true,
    "editable": true
   },
   "source": [
    "For now, we will only consider the `review_overall` score in order to gauge a beer; we do this because it is assumed this metric is some sort of aggregating metric over all the other beer attribute scores and thus gives a good, generalized metric for \"goodness\"."
   ]
  },
  {
   "cell_type": "code",
   "execution_count": 6,
   "metadata": {
    "collapsed": false,
    "deletable": true,
    "editable": true
   },
   "outputs": [
    {
     "data": {
      "text/html": [
       "<div>\n",
       "<table border=\"1\" class=\"dataframe\">\n",
       "  <thead>\n",
       "    <tr style=\"text-align: right;\">\n",
       "      <th></th>\n",
       "      <th>avg review_overall</th>\n",
       "      <th>avg review_aroma</th>\n",
       "      <th>avg review_appearance</th>\n",
       "      <th>avg review_taste</th>\n",
       "      <th>avg beer_abv</th>\n",
       "      <th>number of reviews</th>\n",
       "      <th>counts with top score</th>\n",
       "    </tr>\n",
       "    <tr>\n",
       "      <th>beer_beerid</th>\n",
       "      <th></th>\n",
       "      <th></th>\n",
       "      <th></th>\n",
       "      <th></th>\n",
       "      <th></th>\n",
       "      <th></th>\n",
       "      <th></th>\n",
       "    </tr>\n",
       "  </thead>\n",
       "  <tbody>\n",
       "    <tr>\n",
       "      <th>77303</th>\n",
       "      <td>5.0</td>\n",
       "      <td>4.50</td>\n",
       "      <td>4.5</td>\n",
       "      <td>4.50</td>\n",
       "      <td>5.8</td>\n",
       "      <td>1</td>\n",
       "      <td>1</td>\n",
       "    </tr>\n",
       "    <tr>\n",
       "      <th>63470</th>\n",
       "      <td>5.0</td>\n",
       "      <td>3.50</td>\n",
       "      <td>3.0</td>\n",
       "      <td>4.50</td>\n",
       "      <td>NaN</td>\n",
       "      <td>1</td>\n",
       "      <td>1</td>\n",
       "    </tr>\n",
       "    <tr>\n",
       "      <th>63829</th>\n",
       "      <td>5.0</td>\n",
       "      <td>3.50</td>\n",
       "      <td>4.0</td>\n",
       "      <td>3.50</td>\n",
       "      <td>8.5</td>\n",
       "      <td>1</td>\n",
       "      <td>1</td>\n",
       "    </tr>\n",
       "    <tr>\n",
       "      <th>63746</th>\n",
       "      <td>5.0</td>\n",
       "      <td>3.50</td>\n",
       "      <td>4.0</td>\n",
       "      <td>4.00</td>\n",
       "      <td>NaN</td>\n",
       "      <td>1</td>\n",
       "      <td>1</td>\n",
       "    </tr>\n",
       "    <tr>\n",
       "      <th>63735</th>\n",
       "      <td>5.0</td>\n",
       "      <td>4.00</td>\n",
       "      <td>4.0</td>\n",
       "      <td>4.50</td>\n",
       "      <td>5.4</td>\n",
       "      <td>1</td>\n",
       "      <td>1</td>\n",
       "    </tr>\n",
       "    <tr>\n",
       "      <th>42392</th>\n",
       "      <td>5.0</td>\n",
       "      <td>4.75</td>\n",
       "      <td>4.0</td>\n",
       "      <td>4.75</td>\n",
       "      <td>5.2</td>\n",
       "      <td>2</td>\n",
       "      <td>2</td>\n",
       "    </tr>\n",
       "    <tr>\n",
       "      <th>16043</th>\n",
       "      <td>5.0</td>\n",
       "      <td>3.50</td>\n",
       "      <td>4.0</td>\n",
       "      <td>5.00</td>\n",
       "      <td>7.0</td>\n",
       "      <td>1</td>\n",
       "      <td>1</td>\n",
       "    </tr>\n",
       "    <tr>\n",
       "      <th>42501</th>\n",
       "      <td>5.0</td>\n",
       "      <td>4.00</td>\n",
       "      <td>3.5</td>\n",
       "      <td>4.50</td>\n",
       "      <td>NaN</td>\n",
       "      <td>1</td>\n",
       "      <td>1</td>\n",
       "    </tr>\n",
       "    <tr>\n",
       "      <th>63692</th>\n",
       "      <td>5.0</td>\n",
       "      <td>4.00</td>\n",
       "      <td>4.5</td>\n",
       "      <td>4.00</td>\n",
       "      <td>NaN</td>\n",
       "      <td>1</td>\n",
       "      <td>1</td>\n",
       "    </tr>\n",
       "    <tr>\n",
       "      <th>63673</th>\n",
       "      <td>5.0</td>\n",
       "      <td>4.50</td>\n",
       "      <td>4.0</td>\n",
       "      <td>4.50</td>\n",
       "      <td>7.5</td>\n",
       "      <td>1</td>\n",
       "      <td>1</td>\n",
       "    </tr>\n",
       "  </tbody>\n",
       "</table>\n",
       "</div>"
      ],
      "text/plain": [
       "             avg review_overall  avg review_aroma  avg review_appearance  \\\n",
       "beer_beerid                                                                \n",
       "77303                       5.0              4.50                    4.5   \n",
       "63470                       5.0              3.50                    3.0   \n",
       "63829                       5.0              3.50                    4.0   \n",
       "63746                       5.0              3.50                    4.0   \n",
       "63735                       5.0              4.00                    4.0   \n",
       "42392                       5.0              4.75                    4.0   \n",
       "16043                       5.0              3.50                    4.0   \n",
       "42501                       5.0              4.00                    3.5   \n",
       "63692                       5.0              4.00                    4.5   \n",
       "63673                       5.0              4.50                    4.0   \n",
       "\n",
       "             avg review_taste  avg beer_abv  number of reviews  \\\n",
       "beer_beerid                                                      \n",
       "77303                    4.50           5.8                  1   \n",
       "63470                    4.50           NaN                  1   \n",
       "63829                    3.50           8.5                  1   \n",
       "63746                    4.00           NaN                  1   \n",
       "63735                    4.50           5.4                  1   \n",
       "42392                    4.75           5.2                  2   \n",
       "16043                    5.00           7.0                  1   \n",
       "42501                    4.50           NaN                  1   \n",
       "63692                    4.00           NaN                  1   \n",
       "63673                    4.50           7.5                  1   \n",
       "\n",
       "             counts with top score  \n",
       "beer_beerid                         \n",
       "77303                            1  \n",
       "63470                            1  \n",
       "63829                            1  \n",
       "63746                            1  \n",
       "63735                            1  \n",
       "42392                            2  \n",
       "16043                            1  \n",
       "42501                            1  \n",
       "63692                            1  \n",
       "63673                            1  "
      ]
     },
     "execution_count": 6,
     "metadata": {},
     "output_type": "execute_result"
    }
   ],
   "source": [
    "# naively check average review_overall score for each beer\n",
    "score_cols = ['review_overall','review_aroma','review_appearance','review_taste','beer_abv']\n",
    "avg_scores = dat.groupby('beer_beerid').mean()[score_cols]\n",
    "avg_scores.columns = ['avg ' + l for l in score_cols]\n",
    "avg_scores.head()\n",
    "\n",
    "counts = dat.groupby('beer_beerid').count()[['brewery_id']]\n",
    "counts.columns = ['number of reviews']\n",
    "\n",
    "perfect = dat[dat.review_overall==5].groupby('beer_beerid').count()[['brewery_id']]\n",
    "perfect.columns = ['counts with top score']\n",
    "\n",
    "avg_scores = avg_scores.merge(counts, left_index=True, right_index=True)\n",
    "avg_scores = avg_scores.merge(perfect, left_index=True, right_index=True)\n",
    "\n",
    "avg_scores.sort_values('avg review_overall', ascending=False).head(10)"
   ]
  },
  {
   "cell_type": "markdown",
   "metadata": {
    "deletable": true,
    "editable": true
   },
   "source": [
    "This method won't work because beers aren't equally reviewed."
   ]
  },
  {
   "cell_type": "code",
   "execution_count": 7,
   "metadata": {
    "collapsed": false,
    "deletable": true,
    "editable": true
   },
   "outputs": [
    {
     "name": "stdout",
     "output_type": "stream",
     "text": [
      "50 trolls found\n"
     ]
    }
   ],
   "source": [
    "# check whether any reviewers are trolls (e.g. always scoring the same thing)\n",
    "reviewer_scores = dat.groupby('review_profilename').agg(['mean','median','count','std'])[['review_overall']]\n",
    "reviewer_scores.columns = ['mean review_overall','median review_overall', 'count reviews', 'std review_overall']\n",
    "\n",
    "min_reviews_troll = 3 # a reviewer must have had more than this many reviews in order to be considered a troll\n",
    "min_std_troll = 0 # reviewers with a std(review_overall) greater than this value are considered NOT trolls\n",
    "trolls = reviewer_scores[(reviewer_scores['count reviews'] > min_reviews_troll) & (reviewer_scores['std review_overall']<=min_std_troll)]\n",
    "\n",
    "trolls.to_csv('../../data/interim/trolls.csv') # write to file for later use\n",
    "\n",
    "print '%s trolls found' %trolls.shape[0]"
   ]
  },
  {
   "cell_type": "code",
   "execution_count": 8,
   "metadata": {
    "collapsed": false,
    "deletable": true,
    "editable": true
   },
   "outputs": [],
   "source": [
    "# get the top n beers for each reviewer \n",
    "# then find intersection of all of those\n",
    "best_beers_dict = defaultdict(list) # {profile_name: [list of beers rated 5]}\n",
    "n = 3 # number of top beers to return per reviewer\n",
    "min_num_reviews = 1 # minimum number of reviews a reviewer must have done in order to consider their opinion\n",
    "\n",
    "for name, df in dat.groupby('review_profilename'):\n",
    "    if df.shape[0] > min_num_reviews and name not in trolls.index:\n",
    "        best_beers_dict[name] = utils.get_highest_rated_beers(df, n=n)"
   ]
  },
  {
   "cell_type": "code",
   "execution_count": 9,
   "metadata": {
    "collapsed": false,
    "deletable": true,
    "editable": true
   },
   "outputs": [],
   "source": [
    "# calculate the number of times each beer was identified as a best beer\n",
    "all_best_beers = list(itertools.chain.from_iterable(best_beers_dict.values()))\n",
    "best_beers_counts = Counter(all_best_beers)\n",
    "\n",
    "best_beers = pd.DataFrame(best_beers_counts, index=[0]).transpose()\n",
    "best_beers.columns = ['counts as best beer']\n",
    "best_beers.index.name = 'beer_beerid'\n",
    "\n",
    "# add column for average overall score\n",
    "best_beers = best_beers.merge(avg_scores, \n",
    "                              left_index=True, \n",
    "                              right_index=True)\n",
    "\n",
    "# normalize a few of the scores to reviews\n",
    "best_beers['norm counts as best beer'] = best_beers['counts as best beer'] / best_beers['number of reviews']\n",
    "best_beers['weight counts as best beer'] = best_beers['counts as best beer'] * best_beers['number of reviews'] / dat.shape[0]\n",
    "best_beers['norm counts with top score'] = best_beers['counts with top score'] / best_beers['number of reviews']\n",
    "\n",
    "\n",
    "#best_beers.sort_values('counts as best beer', ascending=False).head(50).sort_values('counts with top score', ascending=False)"
   ]
  },
  {
   "cell_type": "code",
   "execution_count": 10,
   "metadata": {
    "collapsed": false,
    "deletable": true,
    "editable": true
   },
   "outputs": [
    {
     "ename": "NameError",
     "evalue": "name 'top50best_beers' is not defined",
     "output_type": "error",
     "traceback": [
      "\u001b[0;31m\u001b[0m",
      "\u001b[0;31mNameError\u001b[0mTraceback (most recent call last)",
      "\u001b[0;32m<ipython-input-10-3a4beccc663c>\u001b[0m in \u001b[0;36m<module>\u001b[0;34m()\u001b[0m\n\u001b[0;32m----> 1\u001b[0;31m \u001b[0mtop50best_beers\u001b[0m\u001b[0;34m.\u001b[0m\u001b[0msort_values\u001b[0m\u001b[0;34m(\u001b[0m\u001b[0;34m'counts as best beer'\u001b[0m\u001b[0;34m,\u001b[0m \u001b[0mascending\u001b[0m\u001b[0;34m=\u001b[0m\u001b[0mFalse\u001b[0m\u001b[0;34m)\u001b[0m\u001b[0;34m.\u001b[0m\u001b[0mhead\u001b[0m\u001b[0;34m(\u001b[0m\u001b[0;36m50\u001b[0m\u001b[0;34m)\u001b[0m\u001b[0;34m\u001b[0m\u001b[0m\n\u001b[0m",
      "\u001b[0;31mNameError\u001b[0m: name 'top50best_beers' is not defined"
     ]
    }
   ],
   "source": [
    "top50best_beers.sort_values('counts as best beer', ascending=False).head(50)"
   ]
  },
  {
   "cell_type": "code",
   "execution_count": null,
   "metadata": {
    "collapsed": false,
    "deletable": true,
    "editable": true
   },
   "outputs": [],
   "source": [
    "best_n = 20\n",
    "x = best_beers.index.tolist()[:best_n]\n",
    "tmp = dat[dat.beer_beerid.isin(x)]\n",
    "\n",
    "plt.figure(figsize=(17,4))\n",
    "ax = sns.violinplot(x=\"beer_beerid\", y=\"review_overall\", data=tmp, order=x, cut=0)\n",
    "plt.suptitle('Distribution of \"review_overall\" for the highest rated beers')"
   ]
  }
 ],
 "metadata": {
  "kernelspec": {
   "display_name": "Python 2",
   "language": "python",
   "name": "python2"
  },
  "language_info": {
   "codemirror_mode": {
    "name": "ipython",
    "version": 2
   },
   "file_extension": ".py",
   "mimetype": "text/x-python",
   "name": "python",
   "nbconvert_exporter": "python",
   "pygments_lexer": "ipython2",
   "version": "2.7.6"
  }
 },
 "nbformat": 4,
 "nbformat_minor": 0
}
